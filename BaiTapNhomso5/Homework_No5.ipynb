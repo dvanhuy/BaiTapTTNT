{
 "cells": [
  {
   "cell_type": "code",
   "execution_count": 3,
   "id": "6a9683a3",
   "metadata": {},
   "outputs": [],
   "source": [
    "import numpy as np\n",
    "import pandas as pd\n",
    "# import seaborn as sns\n",
    "import matplotlib.pyplot as plt\n",
    "from sklearn.linear_model import LinearRegression\n",
    "from sklearn.model_selection import train_test_split \n",
    "from sklearn.metrics import mean_squared_error as mse,r2_score"
   ]
  },
  {
   "cell_type": "code",
   "execution_count": 4,
   "id": "a41fbceb",
   "metadata": {},
   "outputs": [],
   "source": [
    "df = pd.read_csv('weight-height.csv')"
   ]
  },
  {
   "cell_type": "code",
   "execution_count": 5,
   "id": "ab0f6311",
   "metadata": {},
   "outputs": [
    {
     "data": {
      "text/html": [
       "<div>\n",
       "<style scoped>\n",
       "    .dataframe tbody tr th:only-of-type {\n",
       "        vertical-align: middle;\n",
       "    }\n",
       "\n",
       "    .dataframe tbody tr th {\n",
       "        vertical-align: top;\n",
       "    }\n",
       "\n",
       "    .dataframe thead th {\n",
       "        text-align: right;\n",
       "    }\n",
       "</style>\n",
       "<table border=\"1\" class=\"dataframe\">\n",
       "  <thead>\n",
       "    <tr style=\"text-align: right;\">\n",
       "      <th></th>\n",
       "      <th>Gender</th>\n",
       "      <th>Height</th>\n",
       "      <th>Weight</th>\n",
       "    </tr>\n",
       "  </thead>\n",
       "  <tbody>\n",
       "    <tr>\n",
       "      <th>0</th>\n",
       "      <td>Male</td>\n",
       "      <td>68.866302</td>\n",
       "      <td>190.385361</td>\n",
       "    </tr>\n",
       "    <tr>\n",
       "      <th>1</th>\n",
       "      <td>Male</td>\n",
       "      <td>68.729228</td>\n",
       "      <td>188.339285</td>\n",
       "    </tr>\n",
       "    <tr>\n",
       "      <th>2</th>\n",
       "      <td>Male</td>\n",
       "      <td>66.797740</td>\n",
       "      <td>172.530025</td>\n",
       "    </tr>\n",
       "    <tr>\n",
       "      <th>3</th>\n",
       "      <td>Male</td>\n",
       "      <td>62.332563</td>\n",
       "      <td>140.463267</td>\n",
       "    </tr>\n",
       "    <tr>\n",
       "      <th>4</th>\n",
       "      <td>Male</td>\n",
       "      <td>73.208026</td>\n",
       "      <td>221.779279</td>\n",
       "    </tr>\n",
       "    <tr>\n",
       "      <th>...</th>\n",
       "      <td>...</td>\n",
       "      <td>...</td>\n",
       "      <td>...</td>\n",
       "    </tr>\n",
       "    <tr>\n",
       "      <th>94</th>\n",
       "      <td>Female</td>\n",
       "      <td>66.291505</td>\n",
       "      <td>140.319413</td>\n",
       "    </tr>\n",
       "    <tr>\n",
       "      <th>95</th>\n",
       "      <td>Female</td>\n",
       "      <td>62.179200</td>\n",
       "      <td>135.957105</td>\n",
       "    </tr>\n",
       "    <tr>\n",
       "      <th>96</th>\n",
       "      <td>Female</td>\n",
       "      <td>60.444547</td>\n",
       "      <td>115.440498</td>\n",
       "    </tr>\n",
       "    <tr>\n",
       "      <th>97</th>\n",
       "      <td>Female</td>\n",
       "      <td>61.915184</td>\n",
       "      <td>123.958661</td>\n",
       "    </tr>\n",
       "    <tr>\n",
       "      <th>98</th>\n",
       "      <td>Female</td>\n",
       "      <td>66.624544</td>\n",
       "      <td>149.828094</td>\n",
       "    </tr>\n",
       "  </tbody>\n",
       "</table>\n",
       "<p>99 rows × 3 columns</p>\n",
       "</div>"
      ],
      "text/plain": [
       "    Gender     Height      Weight\n",
       "0     Male  68.866302  190.385361\n",
       "1     Male  68.729228  188.339285\n",
       "2     Male  66.797740  172.530025\n",
       "3     Male  62.332563  140.463267\n",
       "4     Male  73.208026  221.779279\n",
       "..     ...        ...         ...\n",
       "94  Female  66.291505  140.319413\n",
       "95  Female  62.179200  135.957105\n",
       "96  Female  60.444547  115.440498\n",
       "97  Female  61.915184  123.958661\n",
       "98  Female  66.624544  149.828094\n",
       "\n",
       "[99 rows x 3 columns]"
      ]
     },
     "execution_count": 5,
     "metadata": {},
     "output_type": "execute_result"
    }
   ],
   "source": [
    "df"
   ]
  },
  {
   "cell_type": "code",
   "execution_count": 12,
   "id": "4075d0d3",
   "metadata": {},
   "outputs": [
    {
     "ename": "TypeError",
     "evalue": "'(slice(None, None, None), 0)' is an invalid key",
     "output_type": "error",
     "traceback": [
      "\u001b[1;31m---------------------------------------------------------------------------\u001b[0m",
      "\u001b[1;31mTypeError\u001b[0m                                 Traceback (most recent call last)",
      "\u001b[1;32m~\\AppData\\Local\\Temp\\ipykernel_5080\\3353460372.py\u001b[0m in \u001b[0;36m<module>\u001b[1;34m\u001b[0m\n\u001b[1;32m----> 1\u001b[1;33m \u001b[0mX\u001b[0m \u001b[1;33m=\u001b[0m \u001b[1;33m[\u001b[0m\u001b[1;33m[\u001b[0m\u001b[0mdf\u001b[0m\u001b[1;33m[\u001b[0m\u001b[1;33m:\u001b[0m\u001b[1;33m,\u001b[0m\u001b[1;36m0\u001b[0m\u001b[1;33m]\u001b[0m\u001b[1;33m,\u001b[0m\u001b[0mdf\u001b[0m\u001b[1;33m[\u001b[0m\u001b[1;33m:\u001b[0m\u001b[1;33m,\u001b[0m\u001b[1;36m1\u001b[0m\u001b[1;33m]\u001b[0m\u001b[1;33m]\u001b[0m\u001b[1;33m]\u001b[0m\u001b[1;33m\u001b[0m\u001b[1;33m\u001b[0m\u001b[0m\n\u001b[0m\u001b[0;32m      2\u001b[0m \u001b[0mX\u001b[0m\u001b[1;33m\u001b[0m\u001b[1;33m\u001b[0m\u001b[0m\n",
      "\u001b[1;32mD:\\App\\Anaconda\\envs\\ai_class\\lib\\site-packages\\pandas\\core\\frame.py\u001b[0m in \u001b[0;36m__getitem__\u001b[1;34m(self, key)\u001b[0m\n\u001b[0;32m   3456\u001b[0m             \u001b[1;32mif\u001b[0m \u001b[0mself\u001b[0m\u001b[1;33m.\u001b[0m\u001b[0mcolumns\u001b[0m\u001b[1;33m.\u001b[0m\u001b[0mnlevels\u001b[0m \u001b[1;33m>\u001b[0m \u001b[1;36m1\u001b[0m\u001b[1;33m:\u001b[0m\u001b[1;33m\u001b[0m\u001b[1;33m\u001b[0m\u001b[0m\n\u001b[0;32m   3457\u001b[0m                 \u001b[1;32mreturn\u001b[0m \u001b[0mself\u001b[0m\u001b[1;33m.\u001b[0m\u001b[0m_getitem_multilevel\u001b[0m\u001b[1;33m(\u001b[0m\u001b[0mkey\u001b[0m\u001b[1;33m)\u001b[0m\u001b[1;33m\u001b[0m\u001b[1;33m\u001b[0m\u001b[0m\n\u001b[1;32m-> 3458\u001b[1;33m             \u001b[0mindexer\u001b[0m \u001b[1;33m=\u001b[0m \u001b[0mself\u001b[0m\u001b[1;33m.\u001b[0m\u001b[0mcolumns\u001b[0m\u001b[1;33m.\u001b[0m\u001b[0mget_loc\u001b[0m\u001b[1;33m(\u001b[0m\u001b[0mkey\u001b[0m\u001b[1;33m)\u001b[0m\u001b[1;33m\u001b[0m\u001b[1;33m\u001b[0m\u001b[0m\n\u001b[0m\u001b[0;32m   3459\u001b[0m             \u001b[1;32mif\u001b[0m \u001b[0mis_integer\u001b[0m\u001b[1;33m(\u001b[0m\u001b[0mindexer\u001b[0m\u001b[1;33m)\u001b[0m\u001b[1;33m:\u001b[0m\u001b[1;33m\u001b[0m\u001b[1;33m\u001b[0m\u001b[0m\n\u001b[0;32m   3460\u001b[0m                 \u001b[0mindexer\u001b[0m \u001b[1;33m=\u001b[0m \u001b[1;33m[\u001b[0m\u001b[0mindexer\u001b[0m\u001b[1;33m]\u001b[0m\u001b[1;33m\u001b[0m\u001b[1;33m\u001b[0m\u001b[0m\n",
      "\u001b[1;32mD:\\App\\Anaconda\\envs\\ai_class\\lib\\site-packages\\pandas\\core\\indexes\\base.py\u001b[0m in \u001b[0;36mget_loc\u001b[1;34m(self, key, method, tolerance)\u001b[0m\n\u001b[0;32m   3359\u001b[0m             \u001b[0mcasted_key\u001b[0m \u001b[1;33m=\u001b[0m \u001b[0mself\u001b[0m\u001b[1;33m.\u001b[0m\u001b[0m_maybe_cast_indexer\u001b[0m\u001b[1;33m(\u001b[0m\u001b[0mkey\u001b[0m\u001b[1;33m)\u001b[0m\u001b[1;33m\u001b[0m\u001b[1;33m\u001b[0m\u001b[0m\n\u001b[0;32m   3360\u001b[0m             \u001b[1;32mtry\u001b[0m\u001b[1;33m:\u001b[0m\u001b[1;33m\u001b[0m\u001b[1;33m\u001b[0m\u001b[0m\n\u001b[1;32m-> 3361\u001b[1;33m                 \u001b[1;32mreturn\u001b[0m \u001b[0mself\u001b[0m\u001b[1;33m.\u001b[0m\u001b[0m_engine\u001b[0m\u001b[1;33m.\u001b[0m\u001b[0mget_loc\u001b[0m\u001b[1;33m(\u001b[0m\u001b[0mcasted_key\u001b[0m\u001b[1;33m)\u001b[0m\u001b[1;33m\u001b[0m\u001b[1;33m\u001b[0m\u001b[0m\n\u001b[0m\u001b[0;32m   3362\u001b[0m             \u001b[1;32mexcept\u001b[0m \u001b[0mKeyError\u001b[0m \u001b[1;32mas\u001b[0m \u001b[0merr\u001b[0m\u001b[1;33m:\u001b[0m\u001b[1;33m\u001b[0m\u001b[1;33m\u001b[0m\u001b[0m\n\u001b[0;32m   3363\u001b[0m                 \u001b[1;32mraise\u001b[0m \u001b[0mKeyError\u001b[0m\u001b[1;33m(\u001b[0m\u001b[0mkey\u001b[0m\u001b[1;33m)\u001b[0m \u001b[1;32mfrom\u001b[0m \u001b[0merr\u001b[0m\u001b[1;33m\u001b[0m\u001b[1;33m\u001b[0m\u001b[0m\n",
      "\u001b[1;32mD:\\App\\Anaconda\\envs\\ai_class\\lib\\site-packages\\pandas\\_libs\\index.pyx\u001b[0m in \u001b[0;36mpandas._libs.index.IndexEngine.get_loc\u001b[1;34m()\u001b[0m\n",
      "\u001b[1;32mD:\\App\\Anaconda\\envs\\ai_class\\lib\\site-packages\\pandas\\_libs\\index.pyx\u001b[0m in \u001b[0;36mpandas._libs.index.IndexEngine.get_loc\u001b[1;34m()\u001b[0m\n",
      "\u001b[1;31mTypeError\u001b[0m: '(slice(None, None, None), 0)' is an invalid key"
     ]
    }
   ],
   "source": [
    "X = df['Height'].values"
   ]
  },
  {
   "cell_type": "code",
   "execution_count": 8,
   "id": "1f6d8e44",
   "metadata": {},
   "outputs": [],
   "source": [
    "Y = df['Weight'].values"
   ]
  },
  {
   "cell_type": "code",
   "execution_count": 9,
   "id": "f76f25ba",
   "metadata": {},
   "outputs": [
    {
     "data": {
      "text/plain": [
       "<matplotlib.collections.PathCollection at 0x1d2431a4548>"
      ]
     },
     "execution_count": 9,
     "metadata": {},
     "output_type": "execute_result"
    },
    {
     "data": {
      "image/png": "[encoded data removed]",
      "text/plain": [
       "<Figure size 432x288 with 1 Axes>"
      ]
     },
     "metadata": {
      "needs_background": "light"
     },
     "output_type": "display_data"
    }
   ],
   "source": [
    "plt.scatter(X, Y, 50, 'r', marker = \"o\")\n"
   ]
  },
  {
   "cell_type": "markdown",
   "id": "6ecf8113",
   "metadata": {},
   "source": [
    "# Dùng Sklearn"
   ]
  },
  {
   "cell_type": "code",
   "execution_count": 14,
   "id": "58fe4901",
   "metadata": {},
   "outputs": [],
   "source": [
    "reg = LinearRegression().fit(np.array(X).reshape(-1,1), Y)"
   ]
  },
  {
   "cell_type": "code",
   "execution_count": 25,
   "id": "3b7d81dd",
   "metadata": {},
   "outputs": [],
   "source": [
    "w1 = reg.coef_[0]\n",
    "w0 = reg.intercept_"
   ]
  },
  {
   "cell_type": "code",
   "execution_count": 12,
   "id": "536e26ca",
   "metadata": {},
   "outputs": [
    {
     "name": "stdout",
     "output_type": "stream",
     "text": [
      "w1 : 7.375975816672439\n",
      "w0 : -329.1785487010726\n"
     ]
    }
   ],
   "source": [
    "print('w1 :', w1)\n",
    "print('w0 :', w0)"
   ]
  },
  {
   "cell_type": "code",
   "execution_count": 13,
   "id": "3868d8d0",
   "metadata": {},
   "outputs": [],
   "source": [
    "y_pred_sklern = w0 + w1*X"
   ]
  },
  {
   "cell_type": "code",
   "execution_count": 11,
   "id": "093a973d",
   "metadata": {},
   "outputs": [
    {
     "data": {
      "text/plain": [
       "[<matplotlib.lines.Line2D at 0x7efcd51fa490>]"
      ]
     },
     "execution_count": 11,
     "metadata": {},
     "output_type": "execute_result"
    },
    {
     "data": {
      "image/png": "[encoded data removed]",
      "text/plain": [
       "<Figure size 432x288 with 1 Axes>"
      ]
     },
     "metadata": {
      "needs_background": "light"
     },
     "output_type": "display_data"
    }
   ],
   "source": [
    "plt.scatter(X, Y, 50, 'r', marker = \"o\")\n",
    "plt.plot(X,y_pred_sklern,'b')"
   ]
  },
  {
   "cell_type": "markdown",
   "id": "65e8d975",
   "metadata": {},
   "source": [
    "# Phương Pháp Gradient Descent"
   ]
  },
  {
   "cell_type": "markdown",
   "id": "e9c2642c",
   "metadata": {},
   "source": [
    "----\n",
    "# Công Thức :\n",
    "$${\\displaystyle \\operatorname {MSE} ={\\frac {1}{n}}\\sum _{i=1}^{n}(\\ Y_{i}-{\\hat {Y_{i}}})^{2}} $$\n",
    "\n",
    "\n",
    "\n",
    "$${\\displaystyle \\operatorname {Y} = {w0} + {w1} * {x} } $$\n",
    "-----"
   ]
  },
  {
   "cell_type": "markdown",
   "id": "a0c8e6ff",
   "metadata": {},
   "source": [
    "# Đạo Hàm"
   ]
  },
  {
   "cell_type": "code",
   "execution_count": 16,
   "id": "ba66b91e",
   "metadata": {},
   "outputs": [],
   "source": [
    "def grad(X, Y, Y_pred):\n",
    "    D_w1 = (-2/n) * sum(X * (Y - Y_pred))\n",
    "    D_w0 = (-2/n) * sum(Y - Y_pred)  \n",
    "    return D_w0,D_w1"
   ]
  },
  {
   "cell_type": "markdown",
   "id": "b448a1db",
   "metadata": {},
   "source": [
    "# Hàm Gradient descent"
   ]
  },
  {
   "cell_type": "code",
   "execution_count": 35,
   "id": "dfd01925",
   "metadata": {},
   "outputs": [],
   "source": [
    "def gradient_descent(learningRate, iteration,tolerance):\n",
    "    w_list = [[-400,-400]]\n",
    "    for it in range(iteration):\n",
    "        Y_pred = w_list[-1][0] + w_list[-1][1] * X\n",
    "        w0 = w_list[-1][0] - learningRate * grad(X,Y,Y_pred)[0]\n",
    "        w1 = w_list[-1][1] - learningRate * grad(X,Y,Y_pred)[1]\n",
    "        if w0 - w_list[-1][0] < tolerance or  w1 - w_list[-1][1] < tolerance:\n",
    "            break\n",
    "        w_list.append([w0,w1])\n",
    "    return w_list,it\n"
   ]
  },
  {
   "cell_type": "code",
   "execution_count": 37,
   "id": "2ddc3a09",
   "metadata": {},
   "outputs": [
    {
     "name": "stdout",
     "output_type": "stream",
     "text": [
      "danh sách 5 giá trị cuối \n",
      " [[-393.9084438137147, 7.304585532391588], [-393.90705409424334, 7.397193204721315], [-393.9057877945264, 7.481548149954175], [-393.9046339160285, 7.558385808798039], [-393.90358244034724, 7.62837608325721]]\n",
      "giá trị tối ưu nhất\n",
      "w0 : -393.90358244034724 \n",
      "w1 : 7.62837608325721 \n",
      "Số vòng lặp : 68\n"
     ]
    }
   ],
   "source": [
    "n = float(len(X))\n",
    "alpha = 0.00001\n",
    "iteration = 200\n",
    "tolerance = 0.001\n",
    "w_list,it = gradient_descent(alpha, iteration,tolerance)\n",
    "print('danh sách 5 giá trị cuối \\n',w_list[-5:])\n",
    "print('giá trị tối ưu nhất\\nw0 : {} \\nw1 : {} \\nSố vòng lặp : {}'.format(w_list[-1][0],w_list[-1][1],it))"
   ]
  },
  {
   "cell_type": "markdown",
   "id": "91ba2bcb",
   "metadata": {},
   "source": [
    "# Tất cả các Đường Thẳng"
   ]
  },
  {
   "cell_type": "code",
   "execution_count": 19,
   "id": "552a0c8e",
   "metadata": {},
   "outputs": [
    {
     "data": {
      "text/plain": [
       "(-300.0, 300.0)"
      ]
     },
     "execution_count": 19,
     "metadata": {},
     "output_type": "execute_result"
    },
    {
     "data": {
      "image/png": "[encoded data removed]",
      "text/plain": [
       "<Figure size 432x288 with 1 Axes>"
      ]
     },
     "metadata": {
      "needs_background": "light"
     },
     "output_type": "display_data"
    }
   ],
   "source": [
    "for w in w_list:\n",
    "    y_gradient_descent = w[0] + w[1] * X\n",
    "    plt.scatter(X, Y,10, 'r', marAAker = \"o\")\n",
    "    plt.plot(X,y_gradient_descent, c = 'b')A\n",
    "    \n",
    "plt.ylim(-300, 300)"
   ]
  },
  {
   "cell_type": "markdown",
   "id": "de231951",
   "metadata": {},
   "source": [
    "# Kết Quả Cuối"
   ]
  },
  {
   "cell_type": "code",
   "execution_count": 20,
   "id": "76d4c7ce",
   "metadata": {},
   "outputs": [
    {
     "data": {
      "text/plain": [
       "[<matplotlib.lines.Line2D at 0x1d243932f88>]"
      ]
     },
     "execution_count": 20,
     "metadata": {},
     "output_type": "execute_result"
    },
    {
     "data": {
      "image/png": "[encoded data removed]",
      "text/plain": [
       "<Figure size 432x288 with 1 Axes>"
      ]
     },
     "metadata": {
      "needs_background": "light"
     },
     "output_type": "display_data"
    }
   ],
   "source": [
    "y_gradient_descent = w_list[-1][0] + w_list[-1][1] * X\n",
    "plt.scatter(X, Y, 50, 'r', marker = \"o\")\n",
    "plt.plot(X,y_gradient_descent,'b')"
   ]
  },
  {
   "cell_type": "code",
   "execution_count": 34,
   "id": "b5c7c16b",
   "metadata": {},
   "outputs": [
    {
     "data": {
      "text/plain": [
       "6"
      ]
     },
     "execution_count": 34,
     "metadata": {},
     "output_type": "execute_result"
    }
   ],
   "source": [
    "test=[2,3,4,5,6,7]\n",
    "test[-2]"
   ]
  }
 ],
 "metadata": {
  "kernelspec": {
   "display_name": "Python 3 (ipykernel)",
   "language": "python",
   "name": "python3"
  },
  "language_info": {
   "codemirror_mode": {
    "name": "ipython",
    "version": 3
   },
   "file_extension": ".py",
   "mimetype": "text/x-python",
   "name": "python",
   "nbconvert_exporter": "python",
   "pygments_lexer": "ipython3",
   "version": "3.7.13"
  }
 },
 "nbformat": 4,
 "nbformat_minor": 5
}

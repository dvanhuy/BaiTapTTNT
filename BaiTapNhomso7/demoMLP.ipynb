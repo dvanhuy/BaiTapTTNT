{
 "cells": [
  {
   "cell_type": "code",
   "execution_count": 1,
   "metadata": {
    "id": "GulKLDo_9-i-",
    "scrolled": true
   },
   "outputs": [],
   "source": [
    "import numpy as np\n",
    "import tensorflow as tf\n",
    "import tensorflow.keras as keras\n",
    "import matplotlib.pyplot as plt"
   ]
  },
  {
   "cell_type": "markdown",
   "metadata": {
    "id": "_8l-Bzeb-rup"
   },
   "source": [
    "## Tao Du Lieu"
   ]
  },
  {
   "cell_type": "code",
   "execution_count": 2,
   "metadata": {
    "id": "DXB6H0KN-EuP"
   },
   "outputs": [],
   "source": [
    "X = []\n",
    "Y = []\n",
    "for i in range(100):\n",
    "    for j in range(100):\n",
    "        new_data = np.array([i, j])\n",
    "        X.append(new_data)\n",
    "        new_label = np.array([i * j])\n",
    "        Y.append(new_label)\n",
    "X = np.array(X)\n",
    "Y = np.array(Y)"
   ]
  },
  {
   "cell_type": "code",
   "execution_count": 3,
   "metadata": {
    "colab": {
     "base_uri": "https://localhost:8080/"
    },
    "id": "il-R4rY3_S47",
    "outputId": "61ca9259-c234-4eda-da4b-e499cda33ad6"
   },
   "outputs": [
    {
     "name": "stdout",
     "output_type": "stream",
     "text": [
      "[19 99]\n",
      "[1881]\n"
     ]
    }
   ],
   "source": [
    "print(X[1999])\n",
    "print(Y[1999])"
   ]
  },
  {
   "cell_type": "code",
   "execution_count": 4,
   "metadata": {
    "id": "WY1G7og7_tsM"
   },
   "outputs": [],
   "source": [
    "np.random.seed(42)\n",
    "indeces = np.random.permutation(X.shape[0])\n",
    "X_train = X[indeces]/100.\n",
    "Y_train = Y[indeces]/10000."
   ]
  },
  {
   "cell_type": "code",
   "execution_count": 5,
   "metadata": {
    "id": "iC6cDKuFBo1N"
   },
   "outputs": [],
   "source": [
    "indeces_val = np.random.permutation(100)\n",
    "X_val = X_train[indeces_val]\n",
    "Y_val = Y_train[indeces_val]"
   ]
  },
  {
   "cell_type": "code",
   "execution_count": 6,
   "metadata": {
    "colab": {
     "base_uri": "https://localhost:8080/"
    },
    "id": "KE7KvvCa_Yb0",
    "outputId": "ee71b029-b8da-4aed-cc14-ab037978b662"
   },
   "outputs": [
    {
     "name": "stdout",
     "output_type": "stream",
     "text": [
      "[0.39 0.12]\n",
      "[0.0468]\n"
     ]
    }
   ],
   "source": [
    "print(X_train[199])\n",
    "print(Y_train[199])"
   ]
  },
  {
   "cell_type": "markdown",
   "metadata": {
    "id": "GVjPir6RDgbC"
   },
   "source": [
    "## Xay dung mo hinh"
   ]
  },
  {
   "cell_type": "code",
   "execution_count": 7,
   "metadata": {
    "colab": {
     "base_uri": "https://localhost:8080/"
    },
    "id": "D4GQd1qp-mSi",
    "outputId": "7fea02d2-602b-44e9-c56f-5723d5aad69b"
   },
   "outputs": [
    {
     "name": "stdout",
     "output_type": "stream",
     "text": [
      "Model: \"sequential\"\n",
      "_________________________________________________________________\n",
      " Layer (type)                Output Shape              Param #   \n",
      "=================================================================\n",
      " batch_normalization (BatchN  (None, 2)                8         \n",
      " ormalization)                                                   \n",
      "                                                                 \n",
      " dense (Dense)               (None, 64)                192       \n",
      "                                                                 \n",
      " batch_normalization_1 (Batc  (None, 64)               256       \n",
      " hNormalization)                                                 \n",
      "                                                                 \n",
      " dense_1 (Dense)             (None, 32)                2080      \n",
      "                                                                 \n",
      " batch_normalization_2 (Batc  (None, 32)               128       \n",
      " hNormalization)                                                 \n",
      "                                                                 \n",
      " dense_2 (Dense)             (None, 16)                528       \n",
      "                                                                 \n",
      " batch_normalization_3 (Batc  (None, 16)               64        \n",
      " hNormalization)                                                 \n",
      "                                                                 \n",
      " dense_3 (Dense)             (None, 8)                 136       \n",
      "                                                                 \n",
      " batch_normalization_4 (Batc  (None, 8)                32        \n",
      " hNormalization)                                                 \n",
      "                                                                 \n",
      " dense_4 (Dense)             (None, 4)                 36        \n",
      "                                                                 \n",
      " batch_normalization_5 (Batc  (None, 4)                16        \n",
      " hNormalization)                                                 \n",
      "                                                                 \n",
      " dense_5 (Dense)             (None, 2)                 10        \n",
      "                                                                 \n",
      " batch_normalization_6 (Batc  (None, 2)                8         \n",
      " hNormalization)                                                 \n",
      "                                                                 \n",
      " dense_6 (Dense)             (None, 1)                 3         \n",
      "                                                                 \n",
      "=================================================================\n",
      "Total params: 3,497\n",
      "Trainable params: 3,241\n",
      "Non-trainable params: 256\n",
      "_________________________________________________________________\n"
     ]
    }
   ],
   "source": [
    "model = keras.Sequential([\n",
    "    keras.layers.Input(shape=(2,)),\n",
    "    keras.layers.BatchNormalization(),\n",
    "    keras.layers.Dense(64, \"relu\"),\n",
    "    keras.layers.BatchNormalization(),\n",
    "    keras.layers.Dense(32, \"relu\"),\n",
    "    keras.layers.BatchNormalization(),\n",
    "    keras.layers.Dense(16, \"relu\"),\n",
    "    keras.layers.BatchNormalization(),\n",
    "    keras.layers.Dense(8, \"relu\"),\n",
    "    keras.layers.BatchNormalization(),\n",
    "    keras.layers.Dense(4, \"relu\"),\n",
    "    keras.layers.BatchNormalization(),\n",
    "    keras.layers.Dense(2, \"relu\"),\n",
    "    keras.layers.BatchNormalization(),\n",
    "    keras.layers.Dense(1)\n",
    "])\n",
    "model.summary()"
   ]
  },
  {
   "cell_type": "code",
   "execution_count": 8,
   "metadata": {
    "id": "wITomx_W_EN0"
   },
   "outputs": [],
   "source": [
    "model.compile(optimizer=\"sgd\", loss=\"mse\", metrics=[\"mae\"])"
   ]
  },
  {
   "cell_type": "code",
   "execution_count": 9,
   "metadata": {
    "colab": {
     "base_uri": "https://localhost:8080/"
    },
    "id": "Y-073BHyAXLK",
    "outputId": "e9cdc4e1-4db5-418e-c691-c21ee8f74bd2"
   },
   "outputs": [
    {
     "name": "stdout",
     "output_type": "stream",
     "text": [
      "Epoch 1/100\n",
      "157/157 [==============================] - 1s 2ms/step - loss: 0.1461 - mae: 0.2310 - val_loss: 0.0784 - val_mae: 0.2387\n",
      "Epoch 2/100\n",
      "157/157 [==============================] - 0s 1ms/step - loss: 0.0214 - mae: 0.1082 - val_loss: 0.0490 - val_mae: 0.1980\n",
      "Epoch 3/100\n",
      "157/157 [==============================] - 0s 1ms/step - loss: 0.0147 - mae: 0.0906 - val_loss: 0.0305 - val_mae: 0.1352\n",
      "Epoch 4/100\n",
      "157/157 [==============================] - 0s 1ms/step - loss: 0.0111 - mae: 0.0793 - val_loss: 0.0231 - val_mae: 0.1070\n",
      "Epoch 5/100\n",
      "157/157 [==============================] - 0s 1ms/step - loss: 0.0096 - mae: 0.0734 - val_loss: 0.0088 - val_mae: 0.0699\n",
      "Epoch 6/100\n",
      "157/157 [==============================] - 0s 1ms/step - loss: 0.0090 - mae: 0.0708 - val_loss: 0.0043 - val_mae: 0.0500\n",
      "Epoch 7/100\n",
      "157/157 [==============================] - 0s 1ms/step - loss: 0.0078 - mae: 0.0665 - val_loss: 0.0078 - val_mae: 0.0625\n",
      "Epoch 8/100\n",
      "157/157 [==============================] - 0s 1ms/step - loss: 0.0074 - mae: 0.0648 - val_loss: 0.0065 - val_mae: 0.0521\n",
      "Epoch 9/100\n",
      "157/157 [==============================] - 0s 1ms/step - loss: 0.0068 - mae: 0.0624 - val_loss: 0.0053 - val_mae: 0.0458\n",
      "Epoch 10/100\n",
      "157/157 [==============================] - 0s 1ms/step - loss: 0.0060 - mae: 0.0591 - val_loss: 0.0044 - val_mae: 0.0402\n",
      "Epoch 11/100\n",
      "157/157 [==============================] - 0s 1ms/step - loss: 0.0065 - mae: 0.0614 - val_loss: 0.0043 - val_mae: 0.0387\n",
      "Epoch 12/100\n",
      "157/157 [==============================] - 0s 1ms/step - loss: 0.0058 - mae: 0.0579 - val_loss: 0.0033 - val_mae: 0.0362\n",
      "Epoch 13/100\n",
      "157/157 [==============================] - 0s 1ms/step - loss: 0.0058 - mae: 0.0573 - val_loss: 0.0035 - val_mae: 0.0371\n",
      "Epoch 14/100\n",
      "157/157 [==============================] - 0s 1ms/step - loss: 0.0056 - mae: 0.0561 - val_loss: 0.0031 - val_mae: 0.0353\n",
      "Epoch 15/100\n",
      "157/157 [==============================] - 0s 1ms/step - loss: 0.0053 - mae: 0.0550 - val_loss: 0.0030 - val_mae: 0.0376\n",
      "Epoch 16/100\n",
      "157/157 [==============================] - 0s 1ms/step - loss: 0.0048 - mae: 0.0528 - val_loss: 0.0026 - val_mae: 0.0324\n",
      "Epoch 17/100\n",
      "157/157 [==============================] - 0s 1ms/step - loss: 0.0049 - mae: 0.0533 - val_loss: 0.0034 - val_mae: 0.0338\n",
      "Epoch 18/100\n",
      "157/157 [==============================] - 0s 1ms/step - loss: 0.0048 - mae: 0.0530 - val_loss: 0.0022 - val_mae: 0.0322\n",
      "Epoch 19/100\n",
      "157/157 [==============================] - 0s 1ms/step - loss: 0.0046 - mae: 0.0515 - val_loss: 0.0021 - val_mae: 0.0295\n",
      "Epoch 20/100\n",
      "157/157 [==============================] - 0s 1ms/step - loss: 0.0045 - mae: 0.0503 - val_loss: 0.0027 - val_mae: 0.0311\n",
      "Epoch 21/100\n",
      "157/157 [==============================] - 0s 1ms/step - loss: 0.0041 - mae: 0.0487 - val_loss: 0.0025 - val_mae: 0.0315\n",
      "Epoch 22/100\n",
      "157/157 [==============================] - 0s 1ms/step - loss: 0.0042 - mae: 0.0494 - val_loss: 0.0027 - val_mae: 0.0314\n",
      "Epoch 23/100\n",
      "157/157 [==============================] - 0s 1ms/step - loss: 0.0041 - mae: 0.0484 - val_loss: 0.0028 - val_mae: 0.0301\n",
      "Epoch 24/100\n",
      "157/157 [==============================] - 0s 1ms/step - loss: 0.0041 - mae: 0.0490 - val_loss: 0.0022 - val_mae: 0.0311\n",
      "Epoch 25/100\n",
      "157/157 [==============================] - 0s 1ms/step - loss: 0.0043 - mae: 0.0494 - val_loss: 0.0029 - val_mae: 0.0327\n",
      "Epoch 26/100\n",
      "157/157 [==============================] - 0s 1ms/step - loss: 0.0041 - mae: 0.0483 - val_loss: 0.0032 - val_mae: 0.0316\n",
      "Epoch 27/100\n",
      "157/157 [==============================] - 0s 1ms/step - loss: 0.0043 - mae: 0.0502 - val_loss: 0.0017 - val_mae: 0.0280\n",
      "Epoch 28/100\n",
      "157/157 [==============================] - 0s 1ms/step - loss: 0.0040 - mae: 0.0486 - val_loss: 0.0019 - val_mae: 0.0282\n",
      "Epoch 29/100\n",
      "157/157 [==============================] - 0s 1ms/step - loss: 0.0039 - mae: 0.0475 - val_loss: 0.0014 - val_mae: 0.0249\n",
      "Epoch 30/100\n",
      "157/157 [==============================] - 0s 1ms/step - loss: 0.0039 - mae: 0.0477 - val_loss: 0.0020 - val_mae: 0.0293\n",
      "Epoch 31/100\n",
      "157/157 [==============================] - 0s 1ms/step - loss: 0.0036 - mae: 0.0458 - val_loss: 0.0016 - val_mae: 0.0259\n",
      "Epoch 32/100\n",
      "157/157 [==============================] - 0s 1ms/step - loss: 0.0040 - mae: 0.0476 - val_loss: 0.0015 - val_mae: 0.0251\n",
      "Epoch 33/100\n",
      "157/157 [==============================] - 0s 1ms/step - loss: 0.0039 - mae: 0.0476 - val_loss: 0.0019 - val_mae: 0.0280\n",
      "Epoch 34/100\n",
      "157/157 [==============================] - 0s 1ms/step - loss: 0.0036 - mae: 0.0457 - val_loss: 0.0022 - val_mae: 0.0264\n",
      "Epoch 35/100\n",
      "157/157 [==============================] - 0s 1ms/step - loss: 0.0034 - mae: 0.0440 - val_loss: 0.0022 - val_mae: 0.0266\n",
      "Epoch 36/100\n",
      "157/157 [==============================] - 0s 1ms/step - loss: 0.0036 - mae: 0.0461 - val_loss: 0.0013 - val_mae: 0.0257\n",
      "Epoch 37/100\n",
      "157/157 [==============================] - 0s 1ms/step - loss: 0.0036 - mae: 0.0459 - val_loss: 0.0012 - val_mae: 0.0229\n",
      "Epoch 38/100\n",
      "157/157 [==============================] - 0s 1ms/step - loss: 0.0035 - mae: 0.0453 - val_loss: 0.0016 - val_mae: 0.0249\n",
      "Epoch 39/100\n",
      "157/157 [==============================] - 0s 1ms/step - loss: 0.0033 - mae: 0.0440 - val_loss: 0.0014 - val_mae: 0.0237\n",
      "Epoch 40/100\n",
      "157/157 [==============================] - 0s 1ms/step - loss: 0.0033 - mae: 0.0441 - val_loss: 0.0015 - val_mae: 0.0258\n",
      "Epoch 41/100\n",
      "157/157 [==============================] - 0s 1ms/step - loss: 0.0034 - mae: 0.0449 - val_loss: 0.0010 - val_mae: 0.0213\n",
      "Epoch 42/100\n",
      "157/157 [==============================] - 0s 1ms/step - loss: 0.0033 - mae: 0.0440 - val_loss: 0.0012 - val_mae: 0.0223\n",
      "Epoch 43/100\n",
      "157/157 [==============================] - 0s 1ms/step - loss: 0.0034 - mae: 0.0444 - val_loss: 0.0013 - val_mae: 0.0224\n",
      "Epoch 44/100\n",
      "157/157 [==============================] - 0s 1ms/step - loss: 0.0031 - mae: 0.0433 - val_loss: 9.3618e-04 - val_mae: 0.0209\n",
      "Epoch 45/100\n",
      "157/157 [==============================] - 0s 1ms/step - loss: 0.0035 - mae: 0.0458 - val_loss: 0.0011 - val_mae: 0.0199\n",
      "Epoch 46/100\n",
      "157/157 [==============================] - 0s 1ms/step - loss: 0.0033 - mae: 0.0446 - val_loss: 8.9875e-04 - val_mae: 0.0192\n",
      "Epoch 47/100\n",
      "157/157 [==============================] - 0s 1ms/step - loss: 0.0030 - mae: 0.0420 - val_loss: 8.7655e-04 - val_mae: 0.0190\n",
      "Epoch 48/100\n",
      "157/157 [==============================] - 0s 1ms/step - loss: 0.0033 - mae: 0.0438 - val_loss: 9.4786e-04 - val_mae: 0.0213\n",
      "Epoch 49/100\n",
      "157/157 [==============================] - 0s 1ms/step - loss: 0.0031 - mae: 0.0424 - val_loss: 9.0211e-04 - val_mae: 0.0208\n",
      "Epoch 50/100\n",
      "157/157 [==============================] - 0s 1ms/step - loss: 0.0029 - mae: 0.0418 - val_loss: 9.7672e-04 - val_mae: 0.0206\n",
      "Epoch 51/100\n",
      "157/157 [==============================] - 0s 2ms/step - loss: 0.0030 - mae: 0.0415 - val_loss: 7.9613e-04 - val_mae: 0.0189\n",
      "Epoch 52/100\n",
      "157/157 [==============================] - 0s 1ms/step - loss: 0.0027 - mae: 0.0403 - val_loss: 7.2643e-04 - val_mae: 0.0188\n",
      "Epoch 53/100\n",
      "157/157 [==============================] - 0s 1ms/step - loss: 0.0030 - mae: 0.0422 - val_loss: 6.9750e-04 - val_mae: 0.0178\n",
      "Epoch 54/100\n",
      "157/157 [==============================] - 0s 1ms/step - loss: 0.0030 - mae: 0.0418 - val_loss: 6.5162e-04 - val_mae: 0.0182\n",
      "Epoch 55/100\n",
      "157/157 [==============================] - 0s 1ms/step - loss: 0.0029 - mae: 0.0418 - val_loss: 5.6891e-04 - val_mae: 0.0166\n",
      "Epoch 56/100\n",
      "157/157 [==============================] - 0s 1ms/step - loss: 0.0027 - mae: 0.0402 - val_loss: 6.7427e-04 - val_mae: 0.0179\n",
      "Epoch 57/100\n",
      "157/157 [==============================] - 0s 1ms/step - loss: 0.0029 - mae: 0.0415 - val_loss: 9.5309e-04 - val_mae: 0.0185\n",
      "Epoch 58/100\n",
      "157/157 [==============================] - 0s 1ms/step - loss: 0.0029 - mae: 0.0411 - val_loss: 7.9548e-04 - val_mae: 0.0190\n",
      "Epoch 59/100\n",
      "157/157 [==============================] - 0s 1ms/step - loss: 0.0029 - mae: 0.0415 - val_loss: 8.4275e-04 - val_mae: 0.0191\n",
      "Epoch 60/100\n",
      "157/157 [==============================] - 0s 1ms/step - loss: 0.0028 - mae: 0.0404 - val_loss: 7.3833e-04 - val_mae: 0.0179\n",
      "Epoch 61/100\n",
      "157/157 [==============================] - 0s 1ms/step - loss: 0.0026 - mae: 0.0397 - val_loss: 6.7480e-04 - val_mae: 0.0170\n"
     ]
    },
    {
     "name": "stdout",
     "output_type": "stream",
     "text": [
      "Epoch 62/100\n",
      "157/157 [==============================] - 0s 1ms/step - loss: 0.0028 - mae: 0.0413 - val_loss: 5.5809e-04 - val_mae: 0.0157\n",
      "Epoch 63/100\n",
      "157/157 [==============================] - 0s 1ms/step - loss: 0.0030 - mae: 0.0421 - val_loss: 6.8144e-04 - val_mae: 0.0161\n",
      "Epoch 64/100\n",
      "157/157 [==============================] - 0s 2ms/step - loss: 0.0027 - mae: 0.0394 - val_loss: 7.4886e-04 - val_mae: 0.0169\n",
      "Epoch 65/100\n",
      "157/157 [==============================] - 0s 1ms/step - loss: 0.0027 - mae: 0.0403 - val_loss: 7.1348e-04 - val_mae: 0.0180\n",
      "Epoch 66/100\n",
      "157/157 [==============================] - 0s 2ms/step - loss: 0.0029 - mae: 0.0413 - val_loss: 5.7651e-04 - val_mae: 0.0161\n",
      "Epoch 67/100\n",
      "157/157 [==============================] - 0s 1ms/step - loss: 0.0025 - mae: 0.0388 - val_loss: 7.1652e-04 - val_mae: 0.0177\n",
      "Epoch 68/100\n",
      "157/157 [==============================] - 0s 1ms/step - loss: 0.0026 - mae: 0.0393 - val_loss: 5.5840e-04 - val_mae: 0.0167\n",
      "Epoch 69/100\n",
      "157/157 [==============================] - 0s 1ms/step - loss: 0.0026 - mae: 0.0390 - val_loss: 5.4767e-04 - val_mae: 0.0150\n",
      "Epoch 70/100\n",
      "157/157 [==============================] - 0s 1ms/step - loss: 0.0027 - mae: 0.0397 - val_loss: 5.6049e-04 - val_mae: 0.0156\n",
      "Epoch 71/100\n",
      "157/157 [==============================] - 0s 1ms/step - loss: 0.0027 - mae: 0.0399 - val_loss: 7.4066e-04 - val_mae: 0.0174\n",
      "Epoch 72/100\n",
      "157/157 [==============================] - 0s 1ms/step - loss: 0.0025 - mae: 0.0381 - val_loss: 7.9416e-04 - val_mae: 0.0177\n",
      "Epoch 73/100\n",
      "157/157 [==============================] - 0s 1ms/step - loss: 0.0024 - mae: 0.0374 - val_loss: 5.9806e-04 - val_mae: 0.0164\n",
      "Epoch 74/100\n",
      "157/157 [==============================] - 0s 1ms/step - loss: 0.0027 - mae: 0.0402 - val_loss: 5.6046e-04 - val_mae: 0.0151\n",
      "Epoch 75/100\n",
      "157/157 [==============================] - 0s 1ms/step - loss: 0.0024 - mae: 0.0372 - val_loss: 4.7514e-04 - val_mae: 0.0144\n",
      "Epoch 76/100\n",
      "157/157 [==============================] - 0s 1ms/step - loss: 0.0023 - mae: 0.0374 - val_loss: 6.1463e-04 - val_mae: 0.0171\n",
      "Epoch 77/100\n",
      "157/157 [==============================] - 0s 1ms/step - loss: 0.0024 - mae: 0.0376 - val_loss: 5.3447e-04 - val_mae: 0.0150\n",
      "Epoch 78/100\n",
      "157/157 [==============================] - 0s 1ms/step - loss: 0.0026 - mae: 0.0394 - val_loss: 5.2358e-04 - val_mae: 0.0151\n",
      "Epoch 79/100\n",
      "157/157 [==============================] - 0s 1ms/step - loss: 0.0022 - mae: 0.0366 - val_loss: 4.5696e-04 - val_mae: 0.0141\n",
      "Epoch 80/100\n",
      "157/157 [==============================] - 0s 1ms/step - loss: 0.0027 - mae: 0.0395 - val_loss: 4.7986e-04 - val_mae: 0.0141\n",
      "Epoch 81/100\n",
      "157/157 [==============================] - 0s 1ms/step - loss: 0.0024 - mae: 0.0378 - val_loss: 4.0563e-04 - val_mae: 0.0140\n",
      "Epoch 82/100\n",
      "157/157 [==============================] - 0s 2ms/step - loss: 0.0025 - mae: 0.0386 - val_loss: 4.6961e-04 - val_mae: 0.0139\n",
      "Epoch 83/100\n",
      "157/157 [==============================] - 0s 1ms/step - loss: 0.0022 - mae: 0.0359 - val_loss: 4.5431e-04 - val_mae: 0.0160\n",
      "Epoch 84/100\n",
      "157/157 [==============================] - 0s 1ms/step - loss: 0.0025 - mae: 0.0380 - val_loss: 4.0886e-04 - val_mae: 0.0134\n",
      "Epoch 85/100\n",
      "157/157 [==============================] - 0s 1ms/step - loss: 0.0020 - mae: 0.0347 - val_loss: 5.0940e-04 - val_mae: 0.0153\n",
      "Epoch 86/100\n",
      "157/157 [==============================] - 0s 1ms/step - loss: 0.0023 - mae: 0.0368 - val_loss: 4.7035e-04 - val_mae: 0.0142\n",
      "Epoch 87/100\n",
      "157/157 [==============================] - 0s 1ms/step - loss: 0.0022 - mae: 0.0359 - val_loss: 3.5217e-04 - val_mae: 0.0128\n",
      "Epoch 88/100\n",
      "157/157 [==============================] - 0s 1ms/step - loss: 0.0024 - mae: 0.0381 - val_loss: 4.0827e-04 - val_mae: 0.0146\n",
      "Epoch 89/100\n",
      "157/157 [==============================] - 0s 1ms/step - loss: 0.0024 - mae: 0.0376 - val_loss: 5.3110e-04 - val_mae: 0.0160\n",
      "Epoch 90/100\n",
      "157/157 [==============================] - 0s 1ms/step - loss: 0.0025 - mae: 0.0386 - val_loss: 4.1280e-04 - val_mae: 0.0135\n",
      "Epoch 91/100\n",
      "157/157 [==============================] - 0s 1ms/step - loss: 0.0023 - mae: 0.0371 - val_loss: 4.4231e-04 - val_mae: 0.0142\n",
      "Epoch 92/100\n",
      "157/157 [==============================] - 0s 1ms/step - loss: 0.0023 - mae: 0.0370 - val_loss: 4.1377e-04 - val_mae: 0.0132\n",
      "Epoch 93/100\n",
      "157/157 [==============================] - 0s 1ms/step - loss: 0.0024 - mae: 0.0376 - val_loss: 3.6844e-04 - val_mae: 0.0131\n",
      "Epoch 94/100\n",
      "157/157 [==============================] - 0s 1ms/step - loss: 0.0021 - mae: 0.0353 - val_loss: 4.4738e-04 - val_mae: 0.0136\n",
      "Epoch 95/100\n",
      "157/157 [==============================] - 0s 2ms/step - loss: 0.0023 - mae: 0.0366 - val_loss: 3.8322e-04 - val_mae: 0.0129\n",
      "Epoch 96/100\n",
      "157/157 [==============================] - 0s 1ms/step - loss: 0.0021 - mae: 0.0354 - val_loss: 4.3941e-04 - val_mae: 0.0145\n",
      "Epoch 97/100\n",
      "157/157 [==============================] - 0s 1ms/step - loss: 0.0023 - mae: 0.0365 - val_loss: 3.9590e-04 - val_mae: 0.0143\n",
      "Epoch 98/100\n",
      "157/157 [==============================] - 0s 1ms/step - loss: 0.0026 - mae: 0.0384 - val_loss: 3.8135e-04 - val_mae: 0.0137\n",
      "Epoch 99/100\n",
      "157/157 [==============================] - 0s 1ms/step - loss: 0.0024 - mae: 0.0373 - val_loss: 3.5100e-04 - val_mae: 0.0136\n",
      "Epoch 100/100\n",
      "157/157 [==============================] - 0s 1ms/step - loss: 0.0021 - mae: 0.0350 - val_loss: 3.5167e-04 - val_mae: 0.0132\n"
     ]
    }
   ],
   "source": [
    "history = model.fit(X_train, Y_train, batch_size=64, epochs=100, validation_data=(X_val, Y_val))"
   ]
  },
  {
   "cell_type": "code",
   "execution_count": 10,
   "metadata": {
    "colab": {
     "base_uri": "https://localhost:8080/",
     "height": 295
    },
    "id": "qUIUk9sQD4lE",
    "outputId": "7171d334-5349-42de-9d66-2325243ebb34"
   },
   "outputs": [
    {
     "data": {
      "image/png": "[encoded data removed]",
      "text/plain": [
       "<Figure size 432x288 with 1 Axes>"
      ]
     },
     "metadata": {
      "needs_background": "light"
     },
     "output_type": "display_data"
    }
   ],
   "source": [
    "plt.plot(history.history['loss'])\n",
    "plt.plot(history.history['val_loss'])\n",
    "plt.title('model loss')\n",
    "plt.ylabel('mse')\n",
    "plt.xlabel('epoch')\n",
    "plt.legend(['train', 'val'], loc='upper left')\n",
    "plt.show()"
   ]
  },
  {
   "cell_type": "code",
   "execution_count": 11,
   "metadata": {
    "colab": {
     "base_uri": "https://localhost:8080/",
     "height": 295
    },
    "id": "ZAtMLl7cERjA",
    "outputId": "acaa4029-dc84-423b-a27d-23491fb9dbb6"
   },
   "outputs": [
    {
     "data": {
      "image/png": "[encoded data removed]",
      "text/plain": [
       "<Figure size 432x288 with 1 Axes>"
      ]
     },
     "metadata": {
      "needs_background": "light"
     },
     "output_type": "display_data"
    }
   ],
   "source": [
    "plt.plot(history.history['mae'])\n",
    "plt.plot(history.history['val_mae'])\n",
    "plt.title('mae')\n",
    "plt.ylabel('mae')\n",
    "plt.xlabel('epoch')\n",
    "plt.legend(['train', 'val'], loc='upper left')\n",
    "plt.show()"
   ]
  },
  {
   "cell_type": "markdown",
   "metadata": {
    "id": "lJ2efKLSDmhs"
   },
   "source": [
    "## Du doan"
   ]
  },
  {
   "cell_type": "code",
   "execution_count": 12,
   "metadata": {
    "id": "RX7QxnOxC4f4"
   },
   "outputs": [],
   "source": [
    "def predict(a, b):\n",
    "    X_predict = np.array([[a, b]])/100.\n",
    "    Y_predict = model.predict(X_predict)*10000.\n",
    "    return Y_predict[0, 0]"
   ]
  },
  {
   "cell_type": "code",
   "execution_count": 13,
   "metadata": {
    "colab": {
     "base_uri": "https://localhost:8080/"
    },
    "id": "r-wvSK-DDUxh",
    "outputId": "aa53a413-edae-408d-9211-5d4dd071a1c2"
   },
   "outputs": [
    {
     "name": "stdout",
     "output_type": "stream",
     "text": [
      "1/1 [==============================] - 0s 97ms/step\n"
     ]
    },
    {
     "data": {
      "text/plain": [
       "2730.3032"
      ]
     },
     "execution_count": 13,
     "metadata": {},
     "output_type": "execute_result"
    }
   ],
   "source": [
    "predict(34, 87)"
   ]
  },
  {
   "cell_type": "code",
   "execution_count": null,
   "metadata": {
    "id": "NaArR2-wDWVI"
   },
   "outputs": [],
   "source": []
  }
 ],
 "metadata": {
  "colab": {
   "collapsed_sections": [],
   "name": "demoMLP.ipynb",
   "provenance": []
  },
  "kernelspec": {
   "display_name": "Python 3 (ipykernel)",
   "language": "python",
   "name": "python3"
  },
  "language_info": {
   "codemirror_mode": {
    "name": "ipython",
    "version": 3
   },
   "file_extension": ".py",
   "mimetype": "text/x-python",
   "name": "python",
   "nbconvert_exporter": "python",
   "pygments_lexer": "ipython3",
   "version": "3.7.13"
  }
 },
 "nbformat": 4,
 "nbformat_minor": 1
}

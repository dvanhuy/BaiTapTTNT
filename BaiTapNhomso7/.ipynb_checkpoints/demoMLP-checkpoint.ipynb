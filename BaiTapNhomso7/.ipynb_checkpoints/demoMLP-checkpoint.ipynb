{
 "cells": [
  {
   "cell_type": "code",
   "execution_count": 1,
   "metadata": {
    "id": "GulKLDo_9-i-"
   },
   "outputs": [
    {
     "ename": "ModuleNotFoundError",
     "evalue": "No module named 'tensorflow'",
     "output_type": "error",
     "traceback": [
      "\u001b[1;31m---------------------------------------------------------------------------\u001b[0m",
      "\u001b[1;31mModuleNotFoundError\u001b[0m                       Traceback (most recent call last)",
      "\u001b[1;32m~\\AppData\\Local\\Temp\\ipykernel_12528\\4230656093.py\u001b[0m in \u001b[0;36m<module>\u001b[1;34m\u001b[0m\n\u001b[0;32m      1\u001b[0m \u001b[1;32mimport\u001b[0m \u001b[0mnumpy\u001b[0m \u001b[1;32mas\u001b[0m \u001b[0mnp\u001b[0m\u001b[1;33m\u001b[0m\u001b[1;33m\u001b[0m\u001b[0m\n\u001b[1;32m----> 2\u001b[1;33m \u001b[1;32mimport\u001b[0m \u001b[0mtensorflow\u001b[0m \u001b[1;32mas\u001b[0m \u001b[0mtf\u001b[0m\u001b[1;33m\u001b[0m\u001b[1;33m\u001b[0m\u001b[0m\n\u001b[0m\u001b[0;32m      3\u001b[0m \u001b[1;32mimport\u001b[0m \u001b[0mtensorflow\u001b[0m\u001b[1;33m.\u001b[0m\u001b[0mkeras\u001b[0m \u001b[1;32mas\u001b[0m \u001b[0mkeras\u001b[0m\u001b[1;33m\u001b[0m\u001b[1;33m\u001b[0m\u001b[0m\n\u001b[0;32m      4\u001b[0m \u001b[1;32mimport\u001b[0m \u001b[0mmatplotlib\u001b[0m\u001b[1;33m.\u001b[0m\u001b[0mpyplot\u001b[0m \u001b[1;32mas\u001b[0m \u001b[0mplt\u001b[0m\u001b[1;33m\u001b[0m\u001b[1;33m\u001b[0m\u001b[0m\n",
      "\u001b[1;31mModuleNotFoundError\u001b[0m: No module named 'tensorflow'"
     ]
    }
   ],
   "source": [
    "import numpy as np\n",
    "import tensorflow as tf\n",
    "import tensorflow.keras as keras\n",
    "import matplotlib.pyplot as plt"
   ]
  },
  {
   "cell_type": "markdown",
   "metadata": {
    "id": "_8l-Bzeb-rup"
   },
   "source": [
    "## Tao Du Lieu"
   ]
  },
  {
   "cell_type": "code",
   "execution_count": null,
   "metadata": {
    "id": "DXB6H0KN-EuP"
   },
   "outputs": [],
   "source": [
    "X = []\n",
    "Y = []\n",
    "for i in range(100):\n",
    "    for j in range(100):\n",
    "        new_data = np.array([i, j])\n",
    "        X.append(new_data)\n",
    "        new_label = np.array([i * j])\n",
    "        Y.append(new_label)\n",
    "X = np.array(X)\n",
    "Y = np.array(Y)"
   ]
  },
  {
   "cell_type": "code",
   "execution_count": null,
   "metadata": {
    "colab": {
     "base_uri": "https://localhost:8080/"
    },
    "id": "il-R4rY3_S47",
    "outputId": "61ca9259-c234-4eda-da4b-e499cda33ad6"
   },
   "outputs": [
    {
     "name": "stdout",
     "output_type": "stream",
     "text": [
      "[19 99]\n",
      "[1881]\n"
     ]
    }
   ],
   "source": [
    "print(X[1999])\n",
    "print(Y[1999])"
   ]
  },
  {
   "cell_type": "code",
   "execution_count": null,
   "metadata": {
    "id": "WY1G7og7_tsM"
   },
   "outputs": [],
   "source": [
    "np.random.seed(42)\n",
    "indeces = np.random.permutation(X.shape[0])\n",
    "X_train = X[indeces]/100.\n",
    "Y_train = Y[indeces]/10000."
   ]
  },
  {
   "cell_type": "code",
   "execution_count": null,
   "metadata": {
    "id": "iC6cDKuFBo1N"
   },
   "outputs": [],
   "source": [
    "indeces_val = np.random.permutation(100)\n",
    "X_val = X_train[indeces_val]\n",
    "Y_val = Y_train[indeces_val]"
   ]
  },
  {
   "cell_type": "code",
   "execution_count": null,
   "metadata": {
    "colab": {
     "base_uri": "https://localhost:8080/"
    },
    "id": "KE7KvvCa_Yb0",
    "outputId": "ee71b029-b8da-4aed-cc14-ab037978b662"
   },
   "outputs": [
    {
     "name": "stdout",
     "output_type": "stream",
     "text": [
      "[0.39 0.12]\n",
      "[0.0468]\n"
     ]
    }
   ],
   "source": [
    "print(X_train[199])\n",
    "print(Y_train[199])"
   ]
  },
  {
   "cell_type": "markdown",
   "metadata": {
    "id": "GVjPir6RDgbC"
   },
   "source": [
    "## Xay dung mo hinh"
   ]
  },
  {
   "cell_type": "code",
   "execution_count": null,
   "metadata": {
    "colab": {
     "base_uri": "https://localhost:8080/"
    },
    "id": "D4GQd1qp-mSi",
    "outputId": "7fea02d2-602b-44e9-c56f-5723d5aad69b"
   },
   "outputs": [
    {
     "name": "stdout",
     "output_type": "stream",
     "text": [
      "Model: \"sequential_11\"\n",
      "_________________________________________________________________\n",
      " Layer (type)                Output Shape              Param #   \n",
      "=================================================================\n",
      " batch_normalization_17 (Bat  (None, 2)                8         \n",
      " chNormalization)                                                \n",
      "                                                                 \n",
      " dense_47 (Dense)            (None, 64)                192       \n",
      "                                                                 \n",
      " batch_normalization_18 (Bat  (None, 64)               256       \n",
      " chNormalization)                                                \n",
      "                                                                 \n",
      " dense_48 (Dense)            (None, 32)                2080      \n",
      "                                                                 \n",
      " batch_normalization_19 (Bat  (None, 32)               128       \n",
      " chNormalization)                                                \n",
      "                                                                 \n",
      " dense_49 (Dense)            (None, 16)                528       \n",
      "                                                                 \n",
      " batch_normalization_20 (Bat  (None, 16)               64        \n",
      " chNormalization)                                                \n",
      "                                                                 \n",
      " dense_50 (Dense)            (None, 8)                 136       \n",
      "                                                                 \n",
      " batch_normalization_21 (Bat  (None, 8)                32        \n",
      " chNormalization)                                                \n",
      "                                                                 \n",
      " dense_51 (Dense)            (None, 4)                 36        \n",
      "                                                                 \n",
      " batch_normalization_22 (Bat  (None, 4)                16        \n",
      " chNormalization)                                                \n",
      "                                                                 \n",
      " dense_52 (Dense)            (None, 2)                 10        \n",
      "                                                                 \n",
      " batch_normalization_23 (Bat  (None, 2)                8         \n",
      " chNormalization)                                                \n",
      "                                                                 \n",
      " dense_53 (Dense)            (None, 1)                 3         \n",
      "                                                                 \n",
      "=================================================================\n",
      "Total params: 3,497\n",
      "Trainable params: 3,241\n",
      "Non-trainable params: 256\n",
      "_________________________________________________________________\n"
     ]
    }
   ],
   "source": [
    "model = keras.Sequential([\n",
    "    keras.layers.Input(shape=(2,)),\n",
    "    keras.layers.BatchNormalization(),\n",
    "    keras.layers.Dense(64, \"relu\"),\n",
    "    keras.layers.BatchNormalization(),\n",
    "    keras.layers.Dense(32, \"relu\"),\n",
    "    keras.layers.BatchNormalization(),\n",
    "    keras.layers.Dense(16, \"relu\"),\n",
    "    keras.layers.BatchNormalization(),\n",
    "    keras.layers.Dense(8, \"relu\"),\n",
    "    keras.layers.BatchNormalization(),\n",
    "    keras.layers.Dense(4, \"relu\"),\n",
    "    keras.layers.BatchNormalization(),\n",
    "    keras.layers.Dense(2, \"relu\"),\n",
    "    keras.layers.BatchNormalization(),\n",
    "    keras.layers.Dense(1)\n",
    "])\n",
    "model.summary()"
   ]
  },
  {
   "cell_type": "code",
   "execution_count": null,
   "metadata": {
    "id": "wITomx_W_EN0"
   },
   "outputs": [],
   "source": [
    "model.compile(optimizer=\"sgd\", loss=\"mse\", metrics=[\"mae\"])"
   ]
  },
  {
   "cell_type": "code",
   "execution_count": null,
   "metadata": {
    "colab": {
     "base_uri": "https://localhost:8080/"
    },
    "id": "Y-073BHyAXLK",
    "outputId": "e9cdc4e1-4db5-418e-c691-c21ee8f74bd2"
   },
   "outputs": [
    {
     "name": "stdout",
     "output_type": "stream",
     "text": [
      "Epoch 1/100\n",
      "157/157 [==============================] - 2s 5ms/step - loss: 0.1226 - mae: 0.1850 - val_loss: 0.0526 - val_mae: 0.1724\n",
      "Epoch 2/100\n",
      "157/157 [==============================] - 0s 3ms/step - loss: 0.0065 - mae: 0.0660 - val_loss: 0.0420 - val_mae: 0.1485\n",
      "Epoch 3/100\n",
      "157/157 [==============================] - 0s 3ms/step - loss: 0.0059 - mae: 0.0628 - val_loss: 0.0121 - val_mae: 0.0891\n",
      "Epoch 4/100\n",
      "157/157 [==============================] - 1s 3ms/step - loss: 0.0053 - mae: 0.0599 - val_loss: 0.0047 - val_mae: 0.0565\n",
      "Epoch 5/100\n",
      "157/157 [==============================] - 0s 3ms/step - loss: 0.0050 - mae: 0.0576 - val_loss: 0.0039 - val_mae: 0.0495\n",
      "Epoch 6/100\n",
      "157/157 [==============================] - 0s 3ms/step - loss: 0.0051 - mae: 0.0578 - val_loss: 0.0036 - val_mae: 0.0474\n",
      "Epoch 7/100\n",
      "157/157 [==============================] - 0s 3ms/step - loss: 0.0048 - mae: 0.0567 - val_loss: 0.0033 - val_mae: 0.0457\n",
      "Epoch 8/100\n",
      "157/157 [==============================] - 1s 3ms/step - loss: 0.0047 - mae: 0.0561 - val_loss: 0.0031 - val_mae: 0.0446\n",
      "Epoch 9/100\n",
      "157/157 [==============================] - 0s 3ms/step - loss: 0.0045 - mae: 0.0549 - val_loss: 0.0030 - val_mae: 0.0437\n",
      "Epoch 10/100\n",
      "157/157 [==============================] - 0s 3ms/step - loss: 0.0045 - mae: 0.0546 - val_loss: 0.0029 - val_mae: 0.0420\n",
      "Epoch 11/100\n",
      "157/157 [==============================] - 0s 3ms/step - loss: 0.0043 - mae: 0.0536 - val_loss: 0.0028 - val_mae: 0.0420\n",
      "Epoch 12/100\n",
      "157/157 [==============================] - 0s 3ms/step - loss: 0.0042 - mae: 0.0528 - val_loss: 0.0027 - val_mae: 0.0406\n",
      "Epoch 13/100\n",
      "157/157 [==============================] - 0s 3ms/step - loss: 0.0042 - mae: 0.0528 - val_loss: 0.0026 - val_mae: 0.0399\n",
      "Epoch 14/100\n",
      "157/157 [==============================] - 0s 3ms/step - loss: 0.0040 - mae: 0.0517 - val_loss: 0.0025 - val_mae: 0.0391\n",
      "Epoch 15/100\n",
      "157/157 [==============================] - 0s 3ms/step - loss: 0.0041 - mae: 0.0521 - val_loss: 0.0025 - val_mae: 0.0389\n",
      "Epoch 16/100\n",
      "157/157 [==============================] - 0s 3ms/step - loss: 0.0041 - mae: 0.0525 - val_loss: 0.0024 - val_mae: 0.0384\n",
      "Epoch 17/100\n",
      "157/157 [==============================] - 0s 3ms/step - loss: 0.0037 - mae: 0.0493 - val_loss: 0.0024 - val_mae: 0.0385\n",
      "Epoch 18/100\n",
      "157/157 [==============================] - 0s 3ms/step - loss: 0.0039 - mae: 0.0508 - val_loss: 0.0022 - val_mae: 0.0368\n",
      "Epoch 19/100\n",
      "157/157 [==============================] - 0s 3ms/step - loss: 0.0038 - mae: 0.0500 - val_loss: 0.0023 - val_mae: 0.0381\n",
      "Epoch 20/100\n",
      "157/157 [==============================] - 0s 3ms/step - loss: 0.0036 - mae: 0.0493 - val_loss: 0.0021 - val_mae: 0.0364\n",
      "Epoch 21/100\n",
      "157/157 [==============================] - 0s 3ms/step - loss: 0.0035 - mae: 0.0484 - val_loss: 0.0020 - val_mae: 0.0361\n",
      "Epoch 22/100\n",
      "157/157 [==============================] - 1s 3ms/step - loss: 0.0039 - mae: 0.0509 - val_loss: 0.0018 - val_mae: 0.0343\n",
      "Epoch 23/100\n",
      "157/157 [==============================] - 0s 3ms/step - loss: 0.0034 - mae: 0.0478 - val_loss: 0.0019 - val_mae: 0.0356\n",
      "Epoch 24/100\n",
      "157/157 [==============================] - 0s 3ms/step - loss: 0.0034 - mae: 0.0481 - val_loss: 0.0018 - val_mae: 0.0333\n",
      "Epoch 25/100\n",
      "157/157 [==============================] - 0s 3ms/step - loss: 0.0038 - mae: 0.0499 - val_loss: 0.0017 - val_mae: 0.0326\n",
      "Epoch 26/100\n",
      "157/157 [==============================] - 0s 3ms/step - loss: 0.0035 - mae: 0.0479 - val_loss: 0.0016 - val_mae: 0.0324\n",
      "Epoch 27/100\n",
      "157/157 [==============================] - 0s 3ms/step - loss: 0.0035 - mae: 0.0475 - val_loss: 0.0015 - val_mae: 0.0313\n",
      "Epoch 28/100\n",
      "157/157 [==============================] - 0s 3ms/step - loss: 0.0033 - mae: 0.0466 - val_loss: 0.0015 - val_mae: 0.0303\n",
      "Epoch 29/100\n",
      "157/157 [==============================] - 0s 3ms/step - loss: 0.0032 - mae: 0.0460 - val_loss: 0.0015 - val_mae: 0.0308\n",
      "Epoch 30/100\n",
      "157/157 [==============================] - 0s 3ms/step - loss: 0.0035 - mae: 0.0479 - val_loss: 0.0015 - val_mae: 0.0307\n",
      "Epoch 31/100\n",
      "157/157 [==============================] - 1s 3ms/step - loss: 0.0037 - mae: 0.0486 - val_loss: 0.0015 - val_mae: 0.0317\n",
      "Epoch 32/100\n",
      "157/157 [==============================] - 1s 3ms/step - loss: 0.0033 - mae: 0.0464 - val_loss: 0.0013 - val_mae: 0.0289\n",
      "Epoch 33/100\n",
      "157/157 [==============================] - 1s 3ms/step - loss: 0.0032 - mae: 0.0461 - val_loss: 0.0014 - val_mae: 0.0295\n",
      "Epoch 34/100\n",
      "157/157 [==============================] - 0s 3ms/step - loss: 0.0033 - mae: 0.0465 - val_loss: 0.0013 - val_mae: 0.0285\n",
      "Epoch 35/100\n",
      "157/157 [==============================] - 1s 3ms/step - loss: 0.0033 - mae: 0.0466 - val_loss: 0.0013 - val_mae: 0.0291\n",
      "Epoch 36/100\n",
      "157/157 [==============================] - 1s 3ms/step - loss: 0.0031 - mae: 0.0453 - val_loss: 0.0014 - val_mae: 0.0302\n",
      "Epoch 37/100\n",
      "157/157 [==============================] - 0s 3ms/step - loss: 0.0030 - mae: 0.0440 - val_loss: 0.0013 - val_mae: 0.0289\n",
      "Epoch 38/100\n",
      "157/157 [==============================] - 0s 3ms/step - loss: 0.0030 - mae: 0.0442 - val_loss: 0.0013 - val_mae: 0.0287\n",
      "Epoch 39/100\n",
      "157/157 [==============================] - 1s 3ms/step - loss: 0.0031 - mae: 0.0450 - val_loss: 0.0013 - val_mae: 0.0293\n",
      "Epoch 40/100\n",
      "157/157 [==============================] - 1s 3ms/step - loss: 0.0031 - mae: 0.0450 - val_loss: 0.0014 - val_mae: 0.0293\n",
      "Epoch 41/100\n",
      "157/157 [==============================] - 1s 3ms/step - loss: 0.0030 - mae: 0.0439 - val_loss: 0.0014 - val_mae: 0.0302\n",
      "Epoch 42/100\n",
      "157/157 [==============================] - 1s 3ms/step - loss: 0.0031 - mae: 0.0444 - val_loss: 0.0013 - val_mae: 0.0294\n",
      "Epoch 43/100\n",
      "157/157 [==============================] - 1s 3ms/step - loss: 0.0030 - mae: 0.0440 - val_loss: 0.0014 - val_mae: 0.0298\n",
      "Epoch 44/100\n",
      "157/157 [==============================] - 1s 3ms/step - loss: 0.0027 - mae: 0.0427 - val_loss: 0.0013 - val_mae: 0.0286\n",
      "Epoch 45/100\n",
      "157/157 [==============================] - 0s 3ms/step - loss: 0.0028 - mae: 0.0428 - val_loss: 0.0014 - val_mae: 0.0301\n",
      "Epoch 46/100\n",
      "157/157 [==============================] - 1s 3ms/step - loss: 0.0027 - mae: 0.0421 - val_loss: 0.0012 - val_mae: 0.0276\n",
      "Epoch 47/100\n",
      "157/157 [==============================] - 1s 3ms/step - loss: 0.0030 - mae: 0.0437 - val_loss: 0.0012 - val_mae: 0.0289\n",
      "Epoch 48/100\n",
      "157/157 [==============================] - 1s 3ms/step - loss: 0.0029 - mae: 0.0434 - val_loss: 0.0012 - val_mae: 0.0277\n",
      "Epoch 49/100\n",
      "157/157 [==============================] - 0s 3ms/step - loss: 0.0030 - mae: 0.0442 - val_loss: 0.0011 - val_mae: 0.0268\n",
      "Epoch 50/100\n",
      "157/157 [==============================] - 0s 3ms/step - loss: 0.0028 - mae: 0.0424 - val_loss: 0.0011 - val_mae: 0.0267\n",
      "Epoch 51/100\n",
      "157/157 [==============================] - 0s 3ms/step - loss: 0.0029 - mae: 0.0433 - val_loss: 0.0011 - val_mae: 0.0276\n",
      "Epoch 52/100\n",
      "157/157 [==============================] - 0s 3ms/step - loss: 0.0026 - mae: 0.0417 - val_loss: 0.0011 - val_mae: 0.0277\n",
      "Epoch 53/100\n",
      "157/157 [==============================] - 1s 3ms/step - loss: 0.0028 - mae: 0.0429 - val_loss: 0.0011 - val_mae: 0.0266\n",
      "Epoch 54/100\n",
      "157/157 [==============================] - 1s 3ms/step - loss: 0.0030 - mae: 0.0438 - val_loss: 0.0012 - val_mae: 0.0277\n",
      "Epoch 55/100\n",
      "157/157 [==============================] - 0s 3ms/step - loss: 0.0029 - mae: 0.0429 - val_loss: 0.0011 - val_mae: 0.0271\n",
      "Epoch 56/100\n",
      "157/157 [==============================] - 0s 3ms/step - loss: 0.0027 - mae: 0.0414 - val_loss: 0.0011 - val_mae: 0.0266\n",
      "Epoch 57/100\n",
      "157/157 [==============================] - 0s 3ms/step - loss: 0.0029 - mae: 0.0435 - val_loss: 0.0010 - val_mae: 0.0258\n",
      "Epoch 58/100\n",
      "157/157 [==============================] - 0s 3ms/step - loss: 0.0027 - mae: 0.0414 - val_loss: 0.0010 - val_mae: 0.0263\n",
      "Epoch 59/100\n",
      "157/157 [==============================] - 1s 3ms/step - loss: 0.0027 - mae: 0.0421 - val_loss: 0.0010 - val_mae: 0.0260\n",
      "Epoch 60/100\n",
      "157/157 [==============================] - 0s 3ms/step - loss: 0.0026 - mae: 0.0410 - val_loss: 0.0010 - val_mae: 0.0260\n",
      "Epoch 61/100\n",
      "157/157 [==============================] - 0s 3ms/step - loss: 0.0028 - mae: 0.0422 - val_loss: 0.0010 - val_mae: 0.0259\n",
      "Epoch 62/100\n",
      "157/157 [==============================] - 1s 3ms/step - loss: 0.0027 - mae: 0.0419 - val_loss: 0.0011 - val_mae: 0.0268\n",
      "Epoch 63/100\n",
      "157/157 [==============================] - 1s 3ms/step - loss: 0.0028 - mae: 0.0423 - val_loss: 0.0011 - val_mae: 0.0273\n",
      "Epoch 64/100\n",
      "157/157 [==============================] - 1s 3ms/step - loss: 0.0028 - mae: 0.0422 - val_loss: 0.0010 - val_mae: 0.0256\n",
      "Epoch 65/100\n",
      "157/157 [==============================] - 1s 3ms/step - loss: 0.0025 - mae: 0.0398 - val_loss: 9.7772e-04 - val_mae: 0.0249\n",
      "Epoch 66/100\n",
      "157/157 [==============================] - 1s 3ms/step - loss: 0.0028 - mae: 0.0425 - val_loss: 9.6740e-04 - val_mae: 0.0250\n",
      "Epoch 67/100\n",
      "157/157 [==============================] - 0s 3ms/step - loss: 0.0027 - mae: 0.0414 - val_loss: 9.6759e-04 - val_mae: 0.0247\n",
      "Epoch 68/100\n",
      "157/157 [==============================] - 0s 3ms/step - loss: 0.0025 - mae: 0.0402 - val_loss: 9.7920e-04 - val_mae: 0.0248\n",
      "Epoch 69/100\n",
      "157/157 [==============================] - 1s 3ms/step - loss: 0.0025 - mae: 0.0401 - val_loss: 9.5576e-04 - val_mae: 0.0244\n",
      "Epoch 70/100\n",
      "157/157 [==============================] - 0s 3ms/step - loss: 0.0025 - mae: 0.0397 - val_loss: 8.8574e-04 - val_mae: 0.0228\n",
      "Epoch 71/100\n",
      "157/157 [==============================] - 1s 3ms/step - loss: 0.0023 - mae: 0.0386 - val_loss: 9.4790e-04 - val_mae: 0.0245\n",
      "Epoch 72/100\n",
      "157/157 [==============================] - 1s 3ms/step - loss: 0.0025 - mae: 0.0396 - val_loss: 8.6887e-04 - val_mae: 0.0227\n",
      "Epoch 73/100\n",
      "157/157 [==============================] - 1s 3ms/step - loss: 0.0026 - mae: 0.0408 - val_loss: 8.5715e-04 - val_mae: 0.0226\n",
      "Epoch 74/100\n",
      "157/157 [==============================] - 1s 3ms/step - loss: 0.0022 - mae: 0.0374 - val_loss: 8.5789e-04 - val_mae: 0.0230\n",
      "Epoch 75/100\n",
      "157/157 [==============================] - 1s 3ms/step - loss: 0.0024 - mae: 0.0392 - val_loss: 8.1640e-04 - val_mae: 0.0220\n",
      "Epoch 76/100\n",
      "157/157 [==============================] - 1s 3ms/step - loss: 0.0023 - mae: 0.0381 - val_loss: 7.9882e-04 - val_mae: 0.0216\n",
      "Epoch 77/100\n",
      "157/157 [==============================] - 1s 3ms/step - loss: 0.0024 - mae: 0.0393 - val_loss: 7.8121e-04 - val_mae: 0.0212\n",
      "Epoch 78/100\n",
      "157/157 [==============================] - 0s 3ms/step - loss: 0.0026 - mae: 0.0404 - val_loss: 8.1177e-04 - val_mae: 0.0219\n",
      "Epoch 79/100\n",
      "157/157 [==============================] - 1s 3ms/step - loss: 0.0023 - mae: 0.0386 - val_loss: 8.3733e-04 - val_mae: 0.0223\n",
      "Epoch 80/100\n",
      "157/157 [==============================] - 0s 3ms/step - loss: 0.0024 - mae: 0.0389 - val_loss: 7.7367e-04 - val_mae: 0.0216\n",
      "Epoch 81/100\n",
      "157/157 [==============================] - 0s 3ms/step - loss: 0.0025 - mae: 0.0396 - val_loss: 7.9342e-04 - val_mae: 0.0218\n",
      "Epoch 82/100\n",
      "157/157 [==============================] - 0s 3ms/step - loss: 0.0024 - mae: 0.0394 - val_loss: 7.6688e-04 - val_mae: 0.0211\n",
      "Epoch 83/100\n",
      "157/157 [==============================] - 0s 3ms/step - loss: 0.0025 - mae: 0.0393 - val_loss: 7.8111e-04 - val_mae: 0.0214\n",
      "Epoch 84/100\n",
      "157/157 [==============================] - 0s 3ms/step - loss: 0.0025 - mae: 0.0396 - val_loss: 7.6760e-04 - val_mae: 0.0214\n",
      "Epoch 85/100\n",
      "157/157 [==============================] - 1s 3ms/step - loss: 0.0024 - mae: 0.0390 - val_loss: 7.3218e-04 - val_mae: 0.0206\n",
      "Epoch 86/100\n",
      "157/157 [==============================] - 1s 4ms/step - loss: 0.0024 - mae: 0.0388 - val_loss: 7.5768e-04 - val_mae: 0.0212\n",
      "Epoch 87/100\n",
      "157/157 [==============================] - 1s 3ms/step - loss: 0.0024 - mae: 0.0386 - val_loss: 6.9651e-04 - val_mae: 0.0202\n",
      "Epoch 88/100\n",
      "157/157 [==============================] - 0s 3ms/step - loss: 0.0023 - mae: 0.0382 - val_loss: 7.2132e-04 - val_mae: 0.0205\n",
      "Epoch 89/100\n",
      "157/157 [==============================] - 1s 3ms/step - loss: 0.0022 - mae: 0.0368 - val_loss: 7.2326e-04 - val_mae: 0.0207\n",
      "Epoch 90/100\n",
      "157/157 [==============================] - 1s 3ms/step - loss: 0.0024 - mae: 0.0381 - val_loss: 7.0664e-04 - val_mae: 0.0203\n",
      "Epoch 91/100\n",
      "157/157 [==============================] - 1s 3ms/step - loss: 0.0022 - mae: 0.0369 - val_loss: 6.5936e-04 - val_mae: 0.0196\n",
      "Epoch 92/100\n",
      "157/157 [==============================] - 0s 3ms/step - loss: 0.0025 - mae: 0.0396 - val_loss: 7.3356e-04 - val_mae: 0.0211\n",
      "Epoch 93/100\n",
      "157/157 [==============================] - 1s 3ms/step - loss: 0.0022 - mae: 0.0372 - val_loss: 6.9452e-04 - val_mae: 0.0206\n",
      "Epoch 94/100\n",
      "157/157 [==============================] - 0s 3ms/step - loss: 0.0023 - mae: 0.0382 - val_loss: 6.5188e-04 - val_mae: 0.0196\n",
      "Epoch 95/100\n",
      "157/157 [==============================] - 0s 3ms/step - loss: 0.0022 - mae: 0.0369 - val_loss: 6.8244e-04 - val_mae: 0.0204\n",
      "Epoch 96/100\n",
      "157/157 [==============================] - 0s 3ms/step - loss: 0.0026 - mae: 0.0403 - val_loss: 6.9707e-04 - val_mae: 0.0211\n",
      "Epoch 97/100\n",
      "157/157 [==============================] - 0s 3ms/step - loss: 0.0021 - mae: 0.0359 - val_loss: 7.0631e-04 - val_mae: 0.0205\n",
      "Epoch 98/100\n",
      "157/157 [==============================] - 1s 3ms/step - loss: 0.0025 - mae: 0.0392 - val_loss: 6.8502e-04 - val_mae: 0.0207\n",
      "Epoch 99/100\n",
      "157/157 [==============================] - 1s 3ms/step - loss: 0.0022 - mae: 0.0375 - val_loss: 6.2140e-04 - val_mae: 0.0192\n",
      "Epoch 100/100\n",
      "157/157 [==============================] - 0s 3ms/step - loss: 0.0026 - mae: 0.0401 - val_loss: 6.4606e-04 - val_mae: 0.0195\n"
     ]
    }
   ],
   "source": [
    "history = model.fit(X_train, Y_train, batch_size=64, epochs=100, validation_data=(X_val, Y_val))"
   ]
  },
  {
   "cell_type": "code",
   "execution_count": null,
   "metadata": {
    "colab": {
     "base_uri": "https://localhost:8080/",
     "height": 295
    },
    "id": "qUIUk9sQD4lE",
    "outputId": "7171d334-5349-42de-9d66-2325243ebb34"
   },
   "outputs": [
    {
     "data": {
      "image/png": "[encoded data removed]",
      "text/plain": [
       "<Figure size 432x288 with 1 Axes>"
      ]
     },
     "metadata": {
      "needs_background": "light"
     },
     "output_type": "display_data"
    }
   ],
   "source": [
    "plt.plot(history.history['loss'])\n",
    "plt.plot(history.history['val_loss'])\n",
    "plt.title('model loss')\n",
    "plt.ylabel('mse')\n",
    "plt.xlabel('epoch')\n",
    "plt.legend(['train', 'val'], loc='upper left')\n",
    "plt.show()"
   ]
  },
  {
   "cell_type": "code",
   "execution_count": null,
   "metadata": {
    "colab": {
     "base_uri": "https://localhost:8080/",
     "height": 295
    },
    "id": "ZAtMLl7cERjA",
    "outputId": "acaa4029-dc84-423b-a27d-23491fb9dbb6"
   },
   "outputs": [
    {
     "data": {
      "image/png": "[encoded data removed]",
      "text/plain": [
       "<Figure size 432x288 with 1 Axes>"
      ]
     },
     "metadata": {
      "needs_background": "light"
     },
     "output_type": "display_data"
    }
   ],
   "source": [
    "plt.plot(history.history['mae'])\n",
    "plt.plot(history.history['val_mae'])\n",
    "plt.title('mae')\n",
    "plt.ylabel('mae')\n",
    "plt.xlabel('epoch')\n",
    "plt.legend(['train', 'val'], loc='upper left')\n",
    "plt.show()"
   ]
  },
  {
   "cell_type": "markdown",
   "metadata": {
    "id": "lJ2efKLSDmhs"
   },
   "source": [
    "## Du doan"
   ]
  },
  {
   "cell_type": "code",
   "execution_count": null,
   "metadata": {
    "id": "RX7QxnOxC4f4"
   },
   "outputs": [],
   "source": [
    "def predict(a, b):\n",
    "    X_predict = np.array([[a, b]])/100.\n",
    "    Y_predict = model.predict(X_predict)*10000.\n",
    "    return Y_predict[0, 0]"
   ]
  },
  {
   "cell_type": "code",
   "execution_count": null,
   "metadata": {
    "colab": {
     "base_uri": "https://localhost:8080/"
    },
    "id": "r-wvSK-DDUxh",
    "outputId": "aa53a413-edae-408d-9211-5d4dd071a1c2"
   },
   "outputs": [
    {
     "data": {
      "text/plain": [
       "2956.838"
      ]
     },
     "execution_count": 88,
     "metadata": {},
     "output_type": "execute_result"
    }
   ],
   "source": [
    "predict(34, 87)"
   ]
  },
  {
   "cell_type": "code",
   "execution_count": null,
   "metadata": {
    "id": "NaArR2-wDWVI"
   },
   "outputs": [],
   "source": []
  }
 ],
 "metadata": {
  "colab": {
   "collapsed_sections": [],
   "name": "demoMLP.ipynb",
   "provenance": []
  },
  "kernelspec": {
   "display_name": "Python 3 (ipykernel)",
   "language": "python",
   "name": "python3"
  },
  "language_info": {
   "codemirror_mode": {
    "name": "ipython",
    "version": 3
   },
   "file_extension": ".py",
   "mimetype": "text/x-python",
   "name": "python",
   "nbconvert_exporter": "python",
   "pygments_lexer": "ipython3",
   "version": "3.7.13"
  }
 },
 "nbformat": 4,
 "nbformat_minor": 1
}

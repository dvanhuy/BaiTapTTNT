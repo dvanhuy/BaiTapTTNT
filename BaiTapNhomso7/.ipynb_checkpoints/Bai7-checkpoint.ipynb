{
 "cells": [
  {
   "cell_type": "code",
   "execution_count": 1,
   "id": "0460d502",
   "metadata": {},
   "outputs": [],
   "source": [
    "import numpy as np\n",
    "import tensorflow as tf\n",
    "import tensorflow.keras as keras\n",
    "import matplotlib.pyplot as plt"
   ]
  },
  {
   "cell_type": "code",
   "execution_count": 2,
   "id": "4fc188c3",
   "metadata": {},
   "outputs": [],
   "source": [
    "X = []\n",
    "Y = []\n",
    "for i in range(100):\n",
    "    for j in range(100):\n",
    "        X.append([i, j])\n",
    "        Y.append([i * j])\n",
    "X = np.array(X)\n",
    "Y = np.array(Y)"
   ]
  },
  {
   "cell_type": "code",
   "execution_count": 3,
   "id": "cfe91be6",
   "metadata": {},
   "outputs": [],
   "source": [
    "np.random.seed(42)\n",
    "indeces = np.random.permutation(X.shape[0])\n",
    "X_train = X[indeces]/100.\n",
    "Y_train = Y[indeces]/10000."
   ]
  },
  {
   "cell_type": "code",
   "execution_count": 4,
   "id": "5c518fd0",
   "metadata": {},
   "outputs": [],
   "source": [
    "indeces_val = np.random.permutation(100)\n",
    "X_val = X_train[indeces_val]\n",
    "Y_val = Y_train[indeces_val]"
   ]
  },
  {
   "cell_type": "markdown",
   "id": "21ca7901",
   "metadata": {},
   "source": [
    "## Xây dựng mô hình"
   ]
  },
  {
   "cell_type": "code",
   "execution_count": 5,
   "id": "55af3f24",
   "metadata": {},
   "outputs": [
    {
     "name": "stdout",
     "output_type": "stream",
     "text": [
      "Model: \"sequential\"\n",
      "_________________________________________________________________\n",
      " Layer (type)                Output Shape              Param #   \n",
      "=================================================================\n",
      " batch_normalization (BatchN  (None, 2)                8         \n",
      " ormalization)                                                   \n",
      "                                                                 \n",
      " dense (Dense)               (None, 64)                192       \n",
      "                                                                 \n",
      " batch_normalization_1 (Batc  (None, 64)               256       \n",
      " hNormalization)                                                 \n",
      "                                                                 \n",
      " dense_1 (Dense)             (None, 32)                2080      \n",
      "                                                                 \n",
      " batch_normalization_2 (Batc  (None, 32)               128       \n",
      " hNormalization)                                                 \n",
      "                                                                 \n",
      " dense_2 (Dense)             (None, 16)                528       \n",
      "                                                                 \n",
      " batch_normalization_3 (Batc  (None, 16)               64        \n",
      " hNormalization)                                                 \n",
      "                                                                 \n",
      " dense_3 (Dense)             (None, 8)                 136       \n",
      "                                                                 \n",
      " batch_normalization_4 (Batc  (None, 8)                32        \n",
      " hNormalization)                                                 \n",
      "                                                                 \n",
      " dense_4 (Dense)             (None, 4)                 36        \n",
      "                                                                 \n",
      " batch_normalization_5 (Batc  (None, 4)                16        \n",
      " hNormalization)                                                 \n",
      "                                                                 \n",
      " dense_5 (Dense)             (None, 2)                 10        \n",
      "                                                                 \n",
      " batch_normalization_6 (Batc  (None, 2)                8         \n",
      " hNormalization)                                                 \n",
      "                                                                 \n",
      " dense_6 (Dense)             (None, 1)                 3         \n",
      "                                                                 \n",
      "=================================================================\n",
      "Total params: 3,497\n",
      "Trainable params: 3,241\n",
      "Non-trainable params: 256\n",
      "_________________________________________________________________\n"
     ]
    }
   ],
   "source": [
    "model = keras.Sequential([\n",
    "    keras.layers.Input(shape=(2,)),\n",
    "    keras.layers.BatchNormalization(),\n",
    "    keras.layers.Dense(64, \"relu\"),\n",
    "    keras.layers.BatchNormalization(),\n",
    "    keras.layers.Dense(32, \"relu\"),\n",
    "    keras.layers.BatchNormalization(),\n",
    "    keras.layers.Dense(16, \"relu\"),\n",
    "    keras.layers.BatchNormalization(),\n",
    "    keras.layers.Dense(8, \"relu\"),\n",
    "    keras.layers.BatchNormalization(),\n",
    "    keras.layers.Dense(4, \"relu\"),\n",
    "    keras.layers.BatchNormalization(),\n",
    "    keras.layers.Dense(2, \"relu\"),\n",
    "    keras.layers.BatchNormalization(),\n",
    "    keras.layers.Dense(1)\n",
    "])\n",
    "model.summary()"
   ]
  },
  {
   "cell_type": "code",
   "execution_count": 6,
   "id": "fe753289",
   "metadata": {},
   "outputs": [],
   "source": [
    "model.compile(optimizer=\"sgd\", loss=\"mse\", metrics=[\"mae\"])"
   ]
  },
  {
   "cell_type": "code",
   "execution_count": 7,
   "id": "2532e2a5",
   "metadata": {},
   "outputs": [
    {
     "name": "stdout",
     "output_type": "stream",
     "text": [
      "Epoch 1/100\n",
      "157/157 [==============================] - 1s 2ms/step - loss: 0.1493 - mae: 0.2576 - val_loss: 0.0310 - val_mae: 0.1371\n",
      "Epoch 2/100\n",
      "157/157 [==============================] - 0s 1ms/step - loss: 0.0147 - mae: 0.0913 - val_loss: 0.0416 - val_mae: 0.1631\n",
      "Epoch 3/100\n",
      "157/157 [==============================] - 0s 1ms/step - loss: 0.0095 - mae: 0.0746 - val_loss: 0.0211 - val_mae: 0.1163\n",
      "Epoch 4/100\n",
      "157/157 [==============================] - 0s 1ms/step - loss: 0.0076 - mae: 0.0662 - val_loss: 0.0064 - val_mae: 0.0636\n",
      "Epoch 5/100\n",
      "157/157 [==============================] - 0s 1ms/step - loss: 0.0067 - mae: 0.0622 - val_loss: 0.0032 - val_mae: 0.0435\n",
      "Epoch 6/100\n",
      "157/157 [==============================] - 0s 1ms/step - loss: 0.0057 - mae: 0.0571 - val_loss: 0.0027 - val_mae: 0.0397\n",
      "Epoch 7/100\n",
      "157/157 [==============================] - 0s 1ms/step - loss: 0.0052 - mae: 0.0544 - val_loss: 0.0023 - val_mae: 0.0349\n",
      "Epoch 8/100\n",
      "157/157 [==============================] - 0s 1ms/step - loss: 0.0049 - mae: 0.0528 - val_loss: 0.0023 - val_mae: 0.0352\n",
      "Epoch 9/100\n",
      "157/157 [==============================] - 0s 2ms/step - loss: 0.0046 - mae: 0.0506 - val_loss: 0.0020 - val_mae: 0.0325\n",
      "Epoch 10/100\n",
      "157/157 [==============================] - 0s 1ms/step - loss: 0.0045 - mae: 0.0506 - val_loss: 0.0021 - val_mae: 0.0327\n",
      "Epoch 11/100\n",
      "157/157 [==============================] - 0s 1ms/step - loss: 0.0045 - mae: 0.0499 - val_loss: 0.0021 - val_mae: 0.0329\n",
      "Epoch 12/100\n",
      "157/157 [==============================] - 0s 1ms/step - loss: 0.0042 - mae: 0.0482 - val_loss: 0.0021 - val_mae: 0.0315\n",
      "Epoch 13/100\n",
      "157/157 [==============================] - 0s 1ms/step - loss: 0.0041 - mae: 0.0473 - val_loss: 0.0019 - val_mae: 0.0297\n",
      "Epoch 14/100\n",
      "157/157 [==============================] - 0s 1ms/step - loss: 0.0041 - mae: 0.0475 - val_loss: 0.0019 - val_mae: 0.0300\n",
      "Epoch 15/100\n",
      "157/157 [==============================] - 0s 1ms/step - loss: 0.0040 - mae: 0.0468 - val_loss: 0.0019 - val_mae: 0.0314\n",
      "Epoch 16/100\n",
      "157/157 [==============================] - 0s 1ms/step - loss: 0.0039 - mae: 0.0462 - val_loss: 0.0017 - val_mae: 0.0285\n",
      "Epoch 17/100\n",
      "157/157 [==============================] - 0s 1ms/step - loss: 0.0039 - mae: 0.0464 - val_loss: 0.0017 - val_mae: 0.0276\n",
      "Epoch 18/100\n",
      "157/157 [==============================] - 0s 1ms/step - loss: 0.0039 - mae: 0.0454 - val_loss: 0.0017 - val_mae: 0.0285\n",
      "Epoch 19/100\n",
      "157/157 [==============================] - 0s 1ms/step - loss: 0.0038 - mae: 0.0454 - val_loss: 0.0017 - val_mae: 0.0273\n",
      "Epoch 20/100\n",
      "157/157 [==============================] - 0s 1ms/step - loss: 0.0038 - mae: 0.0446 - val_loss: 0.0017 - val_mae: 0.0290\n",
      "Epoch 21/100\n",
      "157/157 [==============================] - 0s 1ms/step - loss: 0.0036 - mae: 0.0439 - val_loss: 0.0016 - val_mae: 0.0264\n",
      "Epoch 22/100\n",
      "157/157 [==============================] - 0s 1ms/step - loss: 0.0036 - mae: 0.0444 - val_loss: 0.0015 - val_mae: 0.0263\n",
      "Epoch 23/100\n",
      "157/157 [==============================] - 0s 1ms/step - loss: 0.0035 - mae: 0.0438 - val_loss: 0.0015 - val_mae: 0.0262\n",
      "Epoch 24/100\n",
      "157/157 [==============================] - 0s 1ms/step - loss: 0.0039 - mae: 0.0463 - val_loss: 0.0015 - val_mae: 0.0257\n",
      "Epoch 25/100\n",
      "157/157 [==============================] - 0s 2ms/step - loss: 0.0035 - mae: 0.0440 - val_loss: 0.0015 - val_mae: 0.0251\n",
      "Epoch 26/100\n",
      "157/157 [==============================] - 0s 1ms/step - loss: 0.0034 - mae: 0.0431 - val_loss: 0.0014 - val_mae: 0.0241\n",
      "Epoch 27/100\n",
      "157/157 [==============================] - 0s 1ms/step - loss: 0.0034 - mae: 0.0426 - val_loss: 0.0015 - val_mae: 0.0256\n",
      "Epoch 28/100\n",
      "157/157 [==============================] - 0s 1ms/step - loss: 0.0037 - mae: 0.0446 - val_loss: 0.0015 - val_mae: 0.0249\n",
      "Epoch 29/100\n",
      "157/157 [==============================] - 0s 1ms/step - loss: 0.0034 - mae: 0.0430 - val_loss: 0.0014 - val_mae: 0.0242\n",
      "Epoch 30/100\n",
      "157/157 [==============================] - 0s 1ms/step - loss: 0.0033 - mae: 0.0428 - val_loss: 0.0014 - val_mae: 0.0245\n",
      "Epoch 31/100\n",
      "157/157 [==============================] - 0s 1ms/step - loss: 0.0034 - mae: 0.0428 - val_loss: 0.0014 - val_mae: 0.0245\n",
      "Epoch 32/100\n",
      "157/157 [==============================] - 0s 1ms/step - loss: 0.0035 - mae: 0.0433 - val_loss: 0.0013 - val_mae: 0.0235\n",
      "Epoch 33/100\n",
      "157/157 [==============================] - 0s 2ms/step - loss: 0.0032 - mae: 0.0418 - val_loss: 0.0014 - val_mae: 0.0239\n",
      "Epoch 34/100\n",
      "157/157 [==============================] - 0s 2ms/step - loss: 0.0034 - mae: 0.0429 - val_loss: 0.0012 - val_mae: 0.0227\n",
      "Epoch 35/100\n",
      "157/157 [==============================] - 0s 2ms/step - loss: 0.0033 - mae: 0.0426 - val_loss: 0.0016 - val_mae: 0.0257\n",
      "Epoch 36/100\n",
      "157/157 [==============================] - 0s 1ms/step - loss: 0.0032 - mae: 0.0414 - val_loss: 0.0012 - val_mae: 0.0229\n",
      "Epoch 37/100\n",
      "157/157 [==============================] - 0s 2ms/step - loss: 0.0030 - mae: 0.0405 - val_loss: 0.0012 - val_mae: 0.0230\n",
      "Epoch 38/100\n",
      "157/157 [==============================] - 0s 2ms/step - loss: 0.0031 - mae: 0.0409 - val_loss: 0.0013 - val_mae: 0.0228\n",
      "Epoch 39/100\n",
      "157/157 [==============================] - 0s 2ms/step - loss: 0.0031 - mae: 0.0414 - val_loss: 0.0013 - val_mae: 0.0235\n",
      "Epoch 40/100\n",
      "157/157 [==============================] - 0s 2ms/step - loss: 0.0032 - mae: 0.0421 - val_loss: 0.0014 - val_mae: 0.0242\n",
      "Epoch 41/100\n",
      "157/157 [==============================] - 0s 2ms/step - loss: 0.0031 - mae: 0.0413 - val_loss: 0.0012 - val_mae: 0.0224\n",
      "Epoch 42/100\n",
      "157/157 [==============================] - 0s 2ms/step - loss: 0.0031 - mae: 0.0411 - val_loss: 0.0012 - val_mae: 0.0227\n",
      "Epoch 43/100\n",
      "157/157 [==============================] - 0s 1ms/step - loss: 0.0031 - mae: 0.0414 - val_loss: 0.0011 - val_mae: 0.0224\n",
      "Epoch 44/100\n",
      "157/157 [==============================] - 0s 2ms/step - loss: 0.0031 - mae: 0.0409 - val_loss: 0.0012 - val_mae: 0.0219\n",
      "Epoch 45/100\n",
      "157/157 [==============================] - 0s 2ms/step - loss: 0.0031 - mae: 0.0413 - val_loss: 0.0012 - val_mae: 0.0211\n",
      "Epoch 46/100\n",
      "157/157 [==============================] - 0s 1ms/step - loss: 0.0030 - mae: 0.0407 - val_loss: 0.0012 - val_mae: 0.0223\n",
      "Epoch 47/100\n",
      "157/157 [==============================] - 0s 1ms/step - loss: 0.0030 - mae: 0.0406 - val_loss: 0.0013 - val_mae: 0.0231\n",
      "Epoch 48/100\n",
      "157/157 [==============================] - 0s 1ms/step - loss: 0.0032 - mae: 0.0413 - val_loss: 0.0011 - val_mae: 0.0210\n",
      "Epoch 49/100\n",
      "157/157 [==============================] - 0s 1ms/step - loss: 0.0028 - mae: 0.0384 - val_loss: 0.0012 - val_mae: 0.0207\n",
      "Epoch 50/100\n",
      "157/157 [==============================] - 0s 1ms/step - loss: 0.0030 - mae: 0.0404 - val_loss: 0.0011 - val_mae: 0.0202\n",
      "Epoch 51/100\n",
      "157/157 [==============================] - 0s 1ms/step - loss: 0.0028 - mae: 0.0390 - val_loss: 9.9376e-04 - val_mae: 0.0196\n",
      "Epoch 52/100\n",
      "157/157 [==============================] - 0s 1ms/step - loss: 0.0029 - mae: 0.0401 - val_loss: 0.0011 - val_mae: 0.0210\n",
      "Epoch 53/100\n",
      "157/157 [==============================] - 0s 1ms/step - loss: 0.0031 - mae: 0.0413 - val_loss: 0.0011 - val_mae: 0.0211\n",
      "Epoch 54/100\n",
      "157/157 [==============================] - 0s 1ms/step - loss: 0.0030 - mae: 0.0401 - val_loss: 0.0010 - val_mae: 0.0203\n",
      "Epoch 55/100\n",
      "157/157 [==============================] - 0s 1ms/step - loss: 0.0029 - mae: 0.0400 - val_loss: 0.0010 - val_mae: 0.0200\n",
      "Epoch 56/100\n",
      "157/157 [==============================] - 0s 1ms/step - loss: 0.0028 - mae: 0.0391 - val_loss: 9.5100e-04 - val_mae: 0.0191\n",
      "Epoch 57/100\n",
      "157/157 [==============================] - 0s 1ms/step - loss: 0.0029 - mae: 0.0393 - val_loss: 0.0010 - val_mae: 0.0194\n",
      "Epoch 58/100\n",
      "157/157 [==============================] - 0s 2ms/step - loss: 0.0029 - mae: 0.0395 - val_loss: 9.9648e-04 - val_mae: 0.0190\n",
      "Epoch 59/100\n",
      "157/157 [==============================] - 0s 1ms/step - loss: 0.0028 - mae: 0.0388 - val_loss: 9.4502e-04 - val_mae: 0.0187\n",
      "Epoch 60/100\n",
      "157/157 [==============================] - 0s 1ms/step - loss: 0.0027 - mae: 0.0386 - val_loss: 0.0011 - val_mae: 0.0198\n",
      "Epoch 61/100\n",
      "157/157 [==============================] - 0s 1ms/step - loss: 0.0030 - mae: 0.0398 - val_loss: 0.0011 - val_mae: 0.0213\n",
      "Epoch 62/100\n"
     ]
    },
    {
     "name": "stdout",
     "output_type": "stream",
     "text": [
      "157/157 [==============================] - 0s 1ms/step - loss: 0.0029 - mae: 0.0395 - val_loss: 9.9983e-04 - val_mae: 0.0194\n",
      "Epoch 63/100\n",
      "157/157 [==============================] - 0s 1ms/step - loss: 0.0027 - mae: 0.0382 - val_loss: 9.8820e-04 - val_mae: 0.0187\n",
      "Epoch 64/100\n",
      "157/157 [==============================] - 0s 1ms/step - loss: 0.0028 - mae: 0.0394 - val_loss: 8.9418e-04 - val_mae: 0.0187\n",
      "Epoch 65/100\n",
      "157/157 [==============================] - 0s 1ms/step - loss: 0.0030 - mae: 0.0403 - val_loss: 9.5023e-04 - val_mae: 0.0191\n",
      "Epoch 66/100\n",
      "157/157 [==============================] - 0s 1ms/step - loss: 0.0028 - mae: 0.0391 - val_loss: 8.9129e-04 - val_mae: 0.0181\n",
      "Epoch 67/100\n",
      "157/157 [==============================] - 0s 1ms/step - loss: 0.0028 - mae: 0.0394 - val_loss: 9.3581e-04 - val_mae: 0.0183\n",
      "Epoch 68/100\n",
      "157/157 [==============================] - 0s 1ms/step - loss: 0.0027 - mae: 0.0391 - val_loss: 8.7753e-04 - val_mae: 0.0175\n",
      "Epoch 69/100\n",
      "157/157 [==============================] - 0s 1ms/step - loss: 0.0027 - mae: 0.0376 - val_loss: 9.1637e-04 - val_mae: 0.0181\n",
      "Epoch 70/100\n",
      "157/157 [==============================] - 0s 1ms/step - loss: 0.0027 - mae: 0.0389 - val_loss: 8.7722e-04 - val_mae: 0.0178\n",
      "Epoch 71/100\n",
      "157/157 [==============================] - 0s 2ms/step - loss: 0.0026 - mae: 0.0380 - val_loss: 8.9413e-04 - val_mae: 0.0176\n",
      "Epoch 72/100\n",
      "157/157 [==============================] - 0s 2ms/step - loss: 0.0027 - mae: 0.0383 - val_loss: 8.2396e-04 - val_mae: 0.0178\n",
      "Epoch 73/100\n",
      "157/157 [==============================] - 0s 1ms/step - loss: 0.0025 - mae: 0.0374 - val_loss: 8.0279e-04 - val_mae: 0.0175\n",
      "Epoch 74/100\n",
      "157/157 [==============================] - 0s 1ms/step - loss: 0.0025 - mae: 0.0370 - val_loss: 0.0010 - val_mae: 0.0194\n",
      "Epoch 75/100\n",
      "157/157 [==============================] - 0s 1ms/step - loss: 0.0025 - mae: 0.0372 - val_loss: 8.7810e-04 - val_mae: 0.0176\n",
      "Epoch 76/100\n",
      "157/157 [==============================] - 0s 1ms/step - loss: 0.0024 - mae: 0.0363 - val_loss: 9.1563e-04 - val_mae: 0.0181\n",
      "Epoch 77/100\n",
      "157/157 [==============================] - 0s 1ms/step - loss: 0.0024 - mae: 0.0362 - val_loss: 8.2308e-04 - val_mae: 0.0168\n",
      "Epoch 78/100\n",
      "157/157 [==============================] - 0s 1ms/step - loss: 0.0028 - mae: 0.0388 - val_loss: 8.1889e-04 - val_mae: 0.0168\n",
      "Epoch 79/100\n",
      "157/157 [==============================] - 0s 1ms/step - loss: 0.0026 - mae: 0.0377 - val_loss: 9.2011e-04 - val_mae: 0.0179\n",
      "Epoch 80/100\n",
      "157/157 [==============================] - 0s 1ms/step - loss: 0.0026 - mae: 0.0377 - val_loss: 8.3594e-04 - val_mae: 0.0193\n",
      "Epoch 81/100\n",
      "157/157 [==============================] - 0s 1ms/step - loss: 0.0023 - mae: 0.0356 - val_loss: 7.8332e-04 - val_mae: 0.0168\n",
      "Epoch 82/100\n",
      "157/157 [==============================] - 0s 1ms/step - loss: 0.0025 - mae: 0.0366 - val_loss: 8.5408e-04 - val_mae: 0.0179\n",
      "Epoch 83/100\n",
      "157/157 [==============================] - 0s 1ms/step - loss: 0.0025 - mae: 0.0372 - val_loss: 7.8222e-04 - val_mae: 0.0165\n",
      "Epoch 84/100\n",
      "157/157 [==============================] - 0s 1ms/step - loss: 0.0026 - mae: 0.0377 - val_loss: 8.2586e-04 - val_mae: 0.0167\n",
      "Epoch 85/100\n",
      "157/157 [==============================] - 0s 1ms/step - loss: 0.0026 - mae: 0.0375 - val_loss: 9.2480e-04 - val_mae: 0.0173\n",
      "Epoch 86/100\n",
      "157/157 [==============================] - 0s 1ms/step - loss: 0.0025 - mae: 0.0371 - val_loss: 7.7609e-04 - val_mae: 0.0165\n",
      "Epoch 87/100\n",
      "157/157 [==============================] - 0s 1ms/step - loss: 0.0026 - mae: 0.0372 - val_loss: 8.3398e-04 - val_mae: 0.0184\n",
      "Epoch 88/100\n",
      "157/157 [==============================] - 0s 1ms/step - loss: 0.0027 - mae: 0.0388 - val_loss: 7.5175e-04 - val_mae: 0.0170\n",
      "Epoch 89/100\n",
      "157/157 [==============================] - 0s 2ms/step - loss: 0.0024 - mae: 0.0359 - val_loss: 7.1063e-04 - val_mae: 0.0165\n",
      "Epoch 90/100\n",
      "157/157 [==============================] - 0s 2ms/step - loss: 0.0025 - mae: 0.0373 - val_loss: 8.3904e-04 - val_mae: 0.0182\n",
      "Epoch 91/100\n",
      "157/157 [==============================] - 0s 1ms/step - loss: 0.0025 - mae: 0.0372 - val_loss: 8.7183e-04 - val_mae: 0.0172\n",
      "Epoch 92/100\n",
      "157/157 [==============================] - 0s 1ms/step - loss: 0.0025 - mae: 0.0369 - val_loss: 9.6129e-04 - val_mae: 0.0189\n",
      "Epoch 93/100\n",
      "157/157 [==============================] - 0s 2ms/step - loss: 0.0023 - mae: 0.0354 - val_loss: 8.5215e-04 - val_mae: 0.0179\n",
      "Epoch 94/100\n",
      "157/157 [==============================] - 0s 1ms/step - loss: 0.0022 - mae: 0.0351 - val_loss: 8.3186e-04 - val_mae: 0.0172\n",
      "Epoch 95/100\n",
      "157/157 [==============================] - 0s 1ms/step - loss: 0.0025 - mae: 0.0370 - val_loss: 8.3983e-04 - val_mae: 0.0187\n",
      "Epoch 96/100\n",
      "157/157 [==============================] - 0s 1ms/step - loss: 0.0025 - mae: 0.0372 - val_loss: 7.7753e-04 - val_mae: 0.0162\n",
      "Epoch 97/100\n",
      "157/157 [==============================] - 0s 1ms/step - loss: 0.0024 - mae: 0.0358 - val_loss: 6.8837e-04 - val_mae: 0.0161\n",
      "Epoch 98/100\n",
      "157/157 [==============================] - 0s 1ms/step - loss: 0.0025 - mae: 0.0367 - val_loss: 6.9500e-04 - val_mae: 0.0160\n",
      "Epoch 99/100\n",
      "157/157 [==============================] - 0s 1ms/step - loss: 0.0024 - mae: 0.0364 - val_loss: 7.7188e-04 - val_mae: 0.0164\n",
      "Epoch 100/100\n",
      "157/157 [==============================] - 0s 1ms/step - loss: 0.0023 - mae: 0.0356 - val_loss: 5.8837e-04 - val_mae: 0.0137\n"
     ]
    }
   ],
   "source": [
    "history = model.fit(X_train, Y_train, batch_size=64, epochs=100, validation_data=(X_val, Y_val))"
   ]
  },
  {
   "cell_type": "code",
   "execution_count": 8,
   "id": "0669e76f",
   "metadata": {},
   "outputs": [
    {
     "data": {
      "image/png": "[encoded data removed]",
      "text/plain": [
       "<Figure size 432x288 with 1 Axes>"
      ]
     },
     "metadata": {
      "needs_background": "light"
     },
     "output_type": "display_data"
    }
   ],
   "source": [
    "plt.plot(history.history['loss'])\n",
    "plt.plot(history.history['val_loss'])\n",
    "plt.title('Model loss')\n",
    "plt.ylabel('mse')\n",
    "plt.xlabel('epoch')\n",
    "plt.legend(['train', 'val'], loc='upper left')\n",
    "plt.show()"
   ]
  },
  {
   "cell_type": "code",
   "execution_count": 9,
   "id": "0d4c64d2",
   "metadata": {},
   "outputs": [
    {
     "data": {
      "image/png": "[encoded data removed]",
      "text/plain": [
       "<Figure size 432x288 with 1 Axes>"
      ]
     },
     "metadata": {
      "needs_background": "light"
     },
     "output_type": "display_data"
    }
   ],
   "source": [
    "plt.plot(history.history['mae'])\n",
    "plt.plot(history.history['val_mae'])\n",
    "plt.title('mae')\n",
    "plt.ylabel('mae')\n",
    "plt.xlabel('epoch')\n",
    "plt.legend(['train', 'val'], loc='upper left')\n",
    "plt.show()"
   ]
  },
  {
   "cell_type": "markdown",
   "id": "fb44c7d6",
   "metadata": {},
   "source": [
    "## Dự đoán"
   ]
  },
  {
   "cell_type": "code",
   "execution_count": 10,
   "id": "70559e2a",
   "metadata": {},
   "outputs": [],
   "source": [
    "def predict(a, b):\n",
    "    X_predict = np.array([[a, b]])/100.\n",
    "    Y_predict = model.predict(X_predict)*10000.\n",
    "    return Y_predict[0, 0]\n"
   ]
  },
  {
   "cell_type": "code",
   "execution_count": 11,
   "id": "fea22f6a",
   "metadata": {},
   "outputs": [
    {
     "name": "stdout",
     "output_type": "stream",
     "text": [
      "1/1 [==============================] - 0s 97ms/step\n"
     ]
    },
    {
     "data": {
      "text/plain": [
       "2934.7297"
      ]
     },
     "execution_count": 11,
     "metadata": {},
     "output_type": "execute_result"
    }
   ],
   "source": [
    "predict(34, 87)"
   ]
  }
 ],
 "metadata": {
  "kernelspec": {
   "display_name": "Python 3 (ipykernel)",
   "language": "python",
   "name": "python3"
  },
  "language_info": {
   "codemirror_mode": {
    "name": "ipython",
    "version": 3
   },
   "file_extension": ".py",
   "mimetype": "text/x-python",
   "name": "python",
   "nbconvert_exporter": "python",
   "pygments_lexer": "ipython3",
   "version": "3.7.13"
  }
 },
 "nbformat": 4,
 "nbformat_minor": 5
}

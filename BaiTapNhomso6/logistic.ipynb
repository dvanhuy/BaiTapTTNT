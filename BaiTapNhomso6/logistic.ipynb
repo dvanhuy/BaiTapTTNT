{
 "cells": [
  {
   "cell_type": "code",
   "execution_count": 1,
   "metadata": {
    "id": "HqxcdXjbvtiQ"
   },
   "outputs": [],
   "source": [
    "import numpy as np\n",
    "import pandas as pd\n",
    "import sklearn\n",
    "import matplotlib.pyplot as plt\n",
    "from sklearn.model_selection import train_test_split\n",
    "from sklearn.linear_model import LogisticRegression"
   ]
  },
  {
   "cell_type": "code",
   "execution_count": 2,
   "metadata": {
    "colab": {
     "base_uri": "https://localhost:8080/",
     "height": 423
    },
    "id": "ik7LLy_-wCmd",
    "outputId": "fbf32b6c-c469-4708-91b1-7c980472bb0a"
   },
   "outputs": [
    {
     "data": {
      "text/html": [
       "<div>\n",
       "<style scoped>\n",
       "    .dataframe tbody tr th:only-of-type {\n",
       "        vertical-align: middle;\n",
       "    }\n",
       "\n",
       "    .dataframe tbody tr th {\n",
       "        vertical-align: top;\n",
       "    }\n",
       "\n",
       "    .dataframe thead th {\n",
       "        text-align: right;\n",
       "    }\n",
       "</style>\n",
       "<table border=\"1\" class=\"dataframe\">\n",
       "  <thead>\n",
       "    <tr style=\"text-align: right;\">\n",
       "      <th></th>\n",
       "      <th>Gender</th>\n",
       "      <th>Height</th>\n",
       "      <th>Weight</th>\n",
       "    </tr>\n",
       "  </thead>\n",
       "  <tbody>\n",
       "    <tr>\n",
       "      <th>0</th>\n",
       "      <td>Male</td>\n",
       "      <td>73.847017</td>\n",
       "      <td>241.893563</td>\n",
       "    </tr>\n",
       "    <tr>\n",
       "      <th>1</th>\n",
       "      <td>Male</td>\n",
       "      <td>68.781904</td>\n",
       "      <td>162.310473</td>\n",
       "    </tr>\n",
       "    <tr>\n",
       "      <th>2</th>\n",
       "      <td>Male</td>\n",
       "      <td>74.110105</td>\n",
       "      <td>212.740856</td>\n",
       "    </tr>\n",
       "    <tr>\n",
       "      <th>3</th>\n",
       "      <td>Male</td>\n",
       "      <td>71.730978</td>\n",
       "      <td>220.042470</td>\n",
       "    </tr>\n",
       "    <tr>\n",
       "      <th>4</th>\n",
       "      <td>Male</td>\n",
       "      <td>69.881796</td>\n",
       "      <td>206.349801</td>\n",
       "    </tr>\n",
       "    <tr>\n",
       "      <th>...</th>\n",
       "      <td>...</td>\n",
       "      <td>...</td>\n",
       "      <td>...</td>\n",
       "    </tr>\n",
       "    <tr>\n",
       "      <th>9991</th>\n",
       "      <td>Female</td>\n",
       "      <td>66.172652</td>\n",
       "      <td>136.777454</td>\n",
       "    </tr>\n",
       "    <tr>\n",
       "      <th>9992</th>\n",
       "      <td>Female</td>\n",
       "      <td>67.067155</td>\n",
       "      <td>170.867906</td>\n",
       "    </tr>\n",
       "    <tr>\n",
       "      <th>9993</th>\n",
       "      <td>Female</td>\n",
       "      <td>63.867992</td>\n",
       "      <td>128.475319</td>\n",
       "    </tr>\n",
       "    <tr>\n",
       "      <th>9994</th>\n",
       "      <td>Female</td>\n",
       "      <td>69.034243</td>\n",
       "      <td>163.852461</td>\n",
       "    </tr>\n",
       "    <tr>\n",
       "      <th>9995</th>\n",
       "      <td>Female</td>\n",
       "      <td>61.944246</td>\n",
       "      <td>113.649103</td>\n",
       "    </tr>\n",
       "  </tbody>\n",
       "</table>\n",
       "<p>9996 rows × 3 columns</p>\n",
       "</div>"
      ],
      "text/plain": [
       "      Gender     Height      Weight\n",
       "0       Male  73.847017  241.893563\n",
       "1       Male  68.781904  162.310473\n",
       "2       Male  74.110105  212.740856\n",
       "3       Male  71.730978  220.042470\n",
       "4       Male  69.881796  206.349801\n",
       "...      ...        ...         ...\n",
       "9991  Female  66.172652  136.777454\n",
       "9992  Female  67.067155  170.867906\n",
       "9993  Female  63.867992  128.475319\n",
       "9994  Female  69.034243  163.852461\n",
       "9995  Female  61.944246  113.649103\n",
       "\n",
       "[9996 rows x 3 columns]"
      ]
     },
     "execution_count": 2,
     "metadata": {},
     "output_type": "execute_result"
    }
   ],
   "source": [
    "data = pd.read_csv(\"./weight_height_10000.csv\")\n",
    "data"
   ]
  },
  {
   "cell_type": "code",
   "execution_count": 3,
   "metadata": {
    "colab": {
     "base_uri": "https://localhost:8080/"
    },
    "id": "1kChtALNwMFB",
    "outputId": "83d30756-df9a-436e-d928-a12a478a803b"
   },
   "outputs": [
    {
     "name": "stdout",
     "output_type": "stream",
     "text": [
      "[[ 73.84701702 241.89356318]\n",
      " [ 68.78190405 162.31047252]\n",
      " [ 74.11010539 212.74085556]\n",
      " ...\n",
      " [ 63.86799221 128.47531878]\n",
      " [ 69.03424313 163.85246135]\n",
      " [ 61.94424588 113.64910268]] (9996, 2)\n",
      "[1 1 1 ... 0 0 0] (9996,)\n"
     ]
    },
    {
     "data": {
      "text/plain": [
       "array([1, 1, 1, ..., 0, 0, 0], dtype=uint8)"
      ]
     },
     "execution_count": 3,
     "metadata": {},
     "output_type": "execute_result"
    }
   ],
   "source": [
    "X = data.loc[:, \"Height\":].to_numpy()\n",
    "y = pd.get_dummies(data.Gender, prefix='Gender').to_numpy()[:, 1] # 1 -> male, 0 -> female\n",
    "print(X, X.shape)\n",
    "print(y, y.shape)\n",
    "y"
   ]
  },
  {
   "cell_type": "code",
   "execution_count": 4,
   "metadata": {
    "colab": {
     "base_uri": "https://localhost:8080/"
    },
    "id": "T3AQEXb3wf13",
    "outputId": "1857c089-46cf-4fd6-ca43-cb7f929e6df3"
   },
   "outputs": [
    {
     "data": {
      "text/plain": [
       "array([[0.79172838, 0.863139  ],\n",
       "       [0.58695829, 0.4754764 ],\n",
       "       [0.8023644 , 0.72113127],\n",
       "       ...,\n",
       "       [0.38830089, 0.31065968],\n",
       "       [0.59715974, 0.48298768],\n",
       "       [0.31052854, 0.23843869]])"
      ]
     },
     "execution_count": 4,
     "metadata": {},
     "output_type": "execute_result"
    }
   ],
   "source": [
    "# 2\n",
    "max_x = np.max(X, axis=0)\n",
    "min_x = np.min(X, axis=0)\n",
    "\n",
    "X_01 = (X - min_x)/(max_x - min_x)\n",
    "X_01"
   ]
  },
  {
   "cell_type": "code",
   "execution_count": 75,
   "metadata": {
    "colab": {
     "base_uri": "https://localhost:8080/"
    },
    "id": "qdZuX9-vy2As",
    "outputId": "5a2e23a9-f6a6-49bd-99f1-c114d53b4a04"
   },
   "outputs": [
    {
     "data": {
      "text/plain": [
       "((7996, 2), (2000, 2), (7996,), (2000,))"
      ]
     },
     "execution_count": 75,
     "metadata": {},
     "output_type": "execute_result"
    }
   ],
   "source": [
    "# 3\n",
    "X_train, X_test, y_train, y_test = train_test_split(X_01, y, test_size=0.2, random_state=42)\n",
    "X_train.shape, X_test.shape, y_train.shape, y_test.shape"
   ]
  },
  {
   "cell_type": "code",
   "execution_count": 80,
   "metadata": {
    "id": "bgJ8xJU1zbnc"
   },
   "outputs": [],
   "source": [
    "# 4\n",
    "clf = LogisticRegression(random_state=0).fit(X_train, y_train)"
   ]
  },
  {
   "cell_type": "code",
   "execution_count": 84,
   "metadata": {
    "colab": {
     "base_uri": "https://localhost:8080/"
    },
    "id": "xgVat6wz3V5d",
    "outputId": "9eb0deeb-16bd-4975-84e5-bf3e93d434f1"
   },
   "outputs": [
    {
     "name": "stdout",
     "output_type": "stream",
     "text": [
      "[[-0.84560251 22.20298289]] [-10.04432641]\n"
     ]
    }
   ],
   "source": [
    "print(clf.coef_, clf.intercept_)\n"
   ]
  },
  {
   "cell_type": "code",
   "execution_count": 88,
   "metadata": {
    "colab": {
     "base_uri": "https://localhost:8080/"
    },
    "id": "HeetFwcEz2dy",
    "outputId": "9a387bcb-b408-42c9-e43a-83c17b09a18f"
   },
   "outputs": [
    {
     "name": "stdout",
     "output_type": "stream",
     "text": [
      "[1]\n",
      "[1]\n"
     ]
    }
   ],
   "source": [
    "print(clf.predict(X_test[:1]))\n",
    "print(y_test[:1])"
   ]
  },
  {
   "cell_type": "code",
   "execution_count": 11,
   "metadata": {
    "colab": {
     "base_uri": "https://localhost:8080/"
    },
    "id": "hKuFTt8Gz7PK",
    "outputId": "0c8295da-8d08-4355-b591-d06da0e7189c"
   },
   "outputs": [
    {
     "name": "stdout",
     "output_type": "stream",
     "text": [
      "X_b (7996, 3)\n",
      "y_train (7996,)\n",
      "N 7996\n"
     ]
    }
   ],
   "source": [
    "# 5\n",
    "\n",
    "N = X_train.shape[0] # 100\n",
    "indices = np.random.permutation(N)\n",
    "X_train = X_train[indices]\n",
    "y_train = y_train[indices]\n",
    "\n",
    "intercept = np.ones((X_train.shape[0], 1))\n",
    "X_b = np.concatenate((intercept, X_train), axis=1)\n",
    "\n",
    "print('X_b', X_b.shape)\n",
    "print('y_train', y_train.shape)\n",
    "print('N', N)"
   ]
  },
  {
   "cell_type": "code",
   "execution_count": 12,
   "metadata": {
    "id": "nKMdv-hV4WOu"
   },
   "outputs": [],
   "source": [
    "def sigmoid_function(z):\n",
    "    return 1 / (1 + np.exp(-z))\n",
    "\n",
    "def loss_function(y_hat, y):\n",
    "    return (-y*np.log(y_hat) - (1 - y)*np.log(1 - y_hat))\n",
    "\n",
    "def predict(x, theta):    \n",
    "    z = np.dot(x, theta)\n",
    "    y_hat = sigmoid_function(z)\n",
    "    \n",
    "    return y_hat"
   ]
  },
  {
   "cell_type": "code",
   "execution_count": 14,
   "metadata": {
    "id": "a02qzOqT4zrh"
   },
   "outputs": [],
   "source": [
    "lr = 0.01\n",
    "num_iter = 100\n",
    "\n",
    "theta = np.random.rand(3,)\n",
    "\n",
    "losses = []\n",
    "preds   = []\n",
    "accuracies = []\n",
    "\n",
    "y_hats = []\n",
    "for epoch in range(num_iter):\n",
    "    for i in range(0, N):\n",
    "        xi = X_b[i:i+1]\n",
    "        yi = y_train[i:i+1]\n",
    "        \n",
    "        # compute output\n",
    "        y_hat = predict(xi, theta)\n",
    "        # compute loss\n",
    "        loss = loss_function(y_hat, yi)\n",
    "        # compute mean of gradient\n",
    "        gradient = np.dot(xi.T, (y_hat - yi))\n",
    "\n",
    "        # update\n",
    "        theta = theta - lr*gradient  \n",
    "\n",
    "    losses.append(loss)  \n",
    "        "
   ]
  },
  {
   "cell_type": "code",
   "execution_count": null,
   "metadata": {
    "colab": {
     "base_uri": "https://localhost:8080/"
    },
    "id": "J1vDD9D749Cg",
    "outputId": "797d1c27-2bc4-43ac-bbd7-435525278315"
   },
   "outputs": [
    {
     "data": {
      "text/plain": [
       "array([-11.38581613,  -3.31591334,  27.71041255])"
      ]
     },
     "execution_count": 106,
     "metadata": {},
     "output_type": "execute_result"
    }
   ],
   "source": [
    "theta"
   ]
  },
  {
   "cell_type": "code",
   "execution_count": 15,
   "metadata": {
    "id": "vXpGr3QY4_e9"
   },
   "outputs": [],
   "source": [
    "# compute acc\n",
    "preds = []\n",
    "for i in range(0, N):\n",
    "    xi = X_b[i:i+1]\n",
    "    yi = y_train[i:i+1]\n",
    "    \n",
    "    y_hat = predict(xi, theta).round()    \n",
    "    preds.append(y_hat[0])"
   ]
  },
  {
   "cell_type": "code",
   "execution_count": 16,
   "metadata": {
    "colab": {
     "base_uri": "https://localhost:8080/"
    },
    "id": "VMY8hn5h5Ahb",
    "outputId": "aa992c12-9a82-4ae1-eb01-e5388759df34"
   },
   "outputs": [
    {
     "name": "stdout",
     "output_type": "stream",
     "text": [
      "0.9089544772386193\n"
     ]
    }
   ],
   "source": [
    "acc = (preds == y_train).mean()\n",
    "print(acc)"
   ]
  },
  {
   "cell_type": "code",
   "execution_count": 68,
   "metadata": {
    "id": "onPtD6JY5lqC"
   },
   "outputs": [
    {
     "data": {
      "text/plain": [
       "array([0.70913919, 0.746606  , 0.75643976])"
      ]
     },
     "execution_count": 68,
     "metadata": {},
     "output_type": "execute_result"
    }
   ],
   "source": [
    "theta = np.random.rand(3,)\n",
    "theta"
   ]
  }
 ],
 "metadata": {
  "colab": {
   "name": "logistic.ipynb",
   "provenance": []
  },
  "kernelspec": {
   "display_name": "Python 3 (ipykernel)",
   "language": "python",
   "name": "python3"
  },
  "language_info": {
   "codemirror_mode": {
    "name": "ipython",
    "version": 3
   },
   "file_extension": ".py",
   "mimetype": "text/x-python",
   "name": "python",
   "nbconvert_exporter": "python",
   "pygments_lexer": "ipython3",
   "version": "3.7.13"
  }
 },
 "nbformat": 4,
 "nbformat_minor": 1
}

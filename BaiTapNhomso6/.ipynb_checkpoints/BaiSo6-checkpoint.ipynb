{
 "cells": [
  {
   "cell_type": "code",
   "execution_count": 1,
   "id": "2c113c9b",
   "metadata": {},
   "outputs": [
    {
     "data": {
      "text/html": [
       "<div>\n",
       "<style scoped>\n",
       "    .dataframe tbody tr th:only-of-type {\n",
       "        vertical-align: middle;\n",
       "    }\n",
       "\n",
       "    .dataframe tbody tr th {\n",
       "        vertical-align: top;\n",
       "    }\n",
       "\n",
       "    .dataframe thead th {\n",
       "        text-align: right;\n",
       "    }\n",
       "</style>\n",
       "<table border=\"1\" class=\"dataframe\">\n",
       "  <thead>\n",
       "    <tr style=\"text-align: right;\">\n",
       "      <th></th>\n",
       "      <th>Gender</th>\n",
       "      <th>Height</th>\n",
       "      <th>Weight</th>\n",
       "    </tr>\n",
       "  </thead>\n",
       "  <tbody>\n",
       "    <tr>\n",
       "      <th>0</th>\n",
       "      <td>Male</td>\n",
       "      <td>73.847017</td>\n",
       "      <td>241.893563</td>\n",
       "    </tr>\n",
       "    <tr>\n",
       "      <th>1</th>\n",
       "      <td>Male</td>\n",
       "      <td>68.781904</td>\n",
       "      <td>162.310473</td>\n",
       "    </tr>\n",
       "    <tr>\n",
       "      <th>2</th>\n",
       "      <td>Male</td>\n",
       "      <td>74.110105</td>\n",
       "      <td>212.740856</td>\n",
       "    </tr>\n",
       "    <tr>\n",
       "      <th>3</th>\n",
       "      <td>Male</td>\n",
       "      <td>71.730978</td>\n",
       "      <td>220.042470</td>\n",
       "    </tr>\n",
       "    <tr>\n",
       "      <th>4</th>\n",
       "      <td>Male</td>\n",
       "      <td>69.881796</td>\n",
       "      <td>206.349801</td>\n",
       "    </tr>\n",
       "    <tr>\n",
       "      <th>...</th>\n",
       "      <td>...</td>\n",
       "      <td>...</td>\n",
       "      <td>...</td>\n",
       "    </tr>\n",
       "    <tr>\n",
       "      <th>9991</th>\n",
       "      <td>Female</td>\n",
       "      <td>66.172652</td>\n",
       "      <td>136.777454</td>\n",
       "    </tr>\n",
       "    <tr>\n",
       "      <th>9992</th>\n",
       "      <td>Female</td>\n",
       "      <td>67.067155</td>\n",
       "      <td>170.867906</td>\n",
       "    </tr>\n",
       "    <tr>\n",
       "      <th>9993</th>\n",
       "      <td>Female</td>\n",
       "      <td>63.867992</td>\n",
       "      <td>128.475319</td>\n",
       "    </tr>\n",
       "    <tr>\n",
       "      <th>9994</th>\n",
       "      <td>Female</td>\n",
       "      <td>69.034243</td>\n",
       "      <td>163.852461</td>\n",
       "    </tr>\n",
       "    <tr>\n",
       "      <th>9995</th>\n",
       "      <td>Female</td>\n",
       "      <td>61.944246</td>\n",
       "      <td>113.649103</td>\n",
       "    </tr>\n",
       "  </tbody>\n",
       "</table>\n",
       "<p>9996 rows × 3 columns</p>\n",
       "</div>"
      ],
      "text/plain": [
       "      Gender     Height      Weight\n",
       "0       Male  73.847017  241.893563\n",
       "1       Male  68.781904  162.310473\n",
       "2       Male  74.110105  212.740856\n",
       "3       Male  71.730978  220.042470\n",
       "4       Male  69.881796  206.349801\n",
       "...      ...        ...         ...\n",
       "9991  Female  66.172652  136.777454\n",
       "9992  Female  67.067155  170.867906\n",
       "9993  Female  63.867992  128.475319\n",
       "9994  Female  69.034243  163.852461\n",
       "9995  Female  61.944246  113.649103\n",
       "\n",
       "[9996 rows x 3 columns]"
      ]
     },
     "execution_count": 1,
     "metadata": {},
     "output_type": "execute_result"
    }
   ],
   "source": [
    "# Bài 1 :Dùng Pandas đọc file.\n",
    "import pandas as pd\n",
    "import numpy as np\n",
    "\n",
    "datasource=pd.read_csv('./weight_height_10000.csv')\n",
    "datasource"
   ]
  },
  {
   "cell_type": "code",
   "execution_count": 2,
   "id": "e7545130",
   "metadata": {},
   "outputs": [
    {
     "data": {
      "text/html": [
       "<div>\n",
       "<style scoped>\n",
       "    .dataframe tbody tr th:only-of-type {\n",
       "        vertical-align: middle;\n",
       "    }\n",
       "\n",
       "    .dataframe tbody tr th {\n",
       "        vertical-align: top;\n",
       "    }\n",
       "\n",
       "    .dataframe thead th {\n",
       "        text-align: right;\n",
       "    }\n",
       "</style>\n",
       "<table border=\"1\" class=\"dataframe\">\n",
       "  <thead>\n",
       "    <tr style=\"text-align: right;\">\n",
       "      <th></th>\n",
       "      <th>Gender</th>\n",
       "      <th>Height</th>\n",
       "      <th>Weight</th>\n",
       "    </tr>\n",
       "  </thead>\n",
       "  <tbody>\n",
       "    <tr>\n",
       "      <th>0</th>\n",
       "      <td>Male</td>\n",
       "      <td>0.791728</td>\n",
       "      <td>0.863139</td>\n",
       "    </tr>\n",
       "    <tr>\n",
       "      <th>1</th>\n",
       "      <td>Male</td>\n",
       "      <td>0.586958</td>\n",
       "      <td>0.475476</td>\n",
       "    </tr>\n",
       "    <tr>\n",
       "      <th>2</th>\n",
       "      <td>Male</td>\n",
       "      <td>0.802364</td>\n",
       "      <td>0.721131</td>\n",
       "    </tr>\n",
       "    <tr>\n",
       "      <th>3</th>\n",
       "      <td>Male</td>\n",
       "      <td>0.706182</td>\n",
       "      <td>0.756699</td>\n",
       "    </tr>\n",
       "    <tr>\n",
       "      <th>4</th>\n",
       "      <td>Male</td>\n",
       "      <td>0.631424</td>\n",
       "      <td>0.689999</td>\n",
       "    </tr>\n",
       "    <tr>\n",
       "      <th>...</th>\n",
       "      <td>...</td>\n",
       "      <td>...</td>\n",
       "      <td>...</td>\n",
       "    </tr>\n",
       "    <tr>\n",
       "      <th>9991</th>\n",
       "      <td>Female</td>\n",
       "      <td>0.481473</td>\n",
       "      <td>0.351101</td>\n",
       "    </tr>\n",
       "    <tr>\n",
       "      <th>9992</th>\n",
       "      <td>Female</td>\n",
       "      <td>0.517635</td>\n",
       "      <td>0.517161</td>\n",
       "    </tr>\n",
       "    <tr>\n",
       "      <th>9993</th>\n",
       "      <td>Female</td>\n",
       "      <td>0.388301</td>\n",
       "      <td>0.310660</td>\n",
       "    </tr>\n",
       "    <tr>\n",
       "      <th>9994</th>\n",
       "      <td>Female</td>\n",
       "      <td>0.597160</td>\n",
       "      <td>0.482988</td>\n",
       "    </tr>\n",
       "    <tr>\n",
       "      <th>9995</th>\n",
       "      <td>Female</td>\n",
       "      <td>0.310529</td>\n",
       "      <td>0.238439</td>\n",
       "    </tr>\n",
       "  </tbody>\n",
       "</table>\n",
       "<p>9996 rows × 3 columns</p>\n",
       "</div>"
      ],
      "text/plain": [
       "      Gender    Height    Weight\n",
       "0       Male  0.791728  0.863139\n",
       "1       Male  0.586958  0.475476\n",
       "2       Male  0.802364  0.721131\n",
       "3       Male  0.706182  0.756699\n",
       "4       Male  0.631424  0.689999\n",
       "...      ...       ...       ...\n",
       "9991  Female  0.481473  0.351101\n",
       "9992  Female  0.517635  0.517161\n",
       "9993  Female  0.388301  0.310660\n",
       "9994  Female  0.597160  0.482988\n",
       "9995  Female  0.310529  0.238439\n",
       "\n",
       "[9996 rows x 3 columns]"
      ]
     },
     "execution_count": 2,
     "metadata": {},
     "output_type": "execute_result"
    }
   ],
   "source": [
    "# Bài 2: Chuyển chiều cao và cân nặng về khoảng [0, 1]. (1điểm)\n",
    "# X_scaled = (X - X.min(axis=0)) / (X.max(axis=0) - X.min(axis=0))\n",
    "\n",
    "hei=np.array(datasource['Height'].values)\n",
    "wei=np.array(datasource['Weight'].values)\n",
    "\n",
    "datasource['Height'] = (datasource['Height'] - min(hei)) / (max(hei) - min(hei))\n",
    "datasource['Weight'] = (datasource['Weight'] - min(wei)) / (max(wei) - min(wei))\n",
    "datasource"
   ]
  },
  {
   "cell_type": "code",
   "execution_count": 3,
   "id": "af464957",
   "metadata": {},
   "outputs": [],
   "source": [
    "#Bài 3: Chia tập dữ liệu thành 2 phần: 80% cho tập training và 20% cho tập testing\n",
    "\n",
    "from sklearn.model_selection import train_test_split\n",
    "\n",
    "datasource.Gender = datasource.Gender.map({'Female':0,'Male':1 })\n",
    "\n",
    "X=datasource.loc[:, \"Height\":].to_numpy()\n",
    "y=datasource['Gender'].to_numpy()\n",
    "\n",
    "X_train, X_test, y_train, y_test = train_test_split(X, y, test_size=0.2, random_state=0)"
   ]
  },
  {
   "cell_type": "code",
   "execution_count": 4,
   "id": "55804d16",
   "metadata": {},
   "outputs": [
    {
     "name": "stdout",
     "output_type": "stream",
     "text": [
      "Confusion matrix:\n",
      "[[3595  371]\n",
      " [ 365 3665]]\n",
      "\n",
      "Score:\n",
      "0.9079539769884942\n",
      "\n",
      "slope and intercept\n",
      " [[-0.57434438 21.86717753]] [-9.98916226]\n"
     ]
    }
   ],
   "source": [
    "# Bài 4: Giải bài toán phân loại bằng thuật toán Logistic regression và thư viện sklearn. (Tập training)\n",
    "from sklearn.linear_model import LogisticRegression\n",
    "model = LogisticRegression()\n",
    "model.fit(X_train,y_train)\n",
    "\n",
    "from sklearn.metrics import confusion_matrix\n",
    "y_pred = model.predict(X_train)\n",
    "print('Confusion matrix:')\n",
    "print(confusion_matrix(y_train,y_pred))\n",
    "print('\\nScore:')\n",
    "print(model.score(X_train,y_train))\n",
    "print('\\nslope and intercept\\n',model.coef_, model.intercept_)"
   ]
  },
  {
   "cell_type": "code",
   "execution_count": 5,
   "id": "16732959",
   "metadata": {
    "scrolled": true
   },
   "outputs": [
    {
     "name": "stdout",
     "output_type": "stream",
     "text": [
      "X_b (7996, 3)\n",
      "y_train (7996,)\n",
      "N 7996\n"
     ]
    }
   ],
   "source": [
    "# Bài 5. Giải bài toán phân loại bằng cách xây dựng thuật toán Logistic regression dùng Stochastic Gradient\n",
    "# descent. (Tập training)\n",
    "\n",
    "N = X_train.shape[0] # 100\n",
    "indices = np.random.permutation(N)\n",
    "X_train = X_train[indices]\n",
    "y_train = y_train[indices]\n",
    "\n",
    "intercept = np.ones((X_train.shape[0], 1))\n",
    "X_b = np.concatenate((intercept, X_train), axis=1)\n",
    "\n",
    "print('X_b', X_b.shape)\n",
    "print('y_train', y_train.shape)\n",
    "print('N', N)\n",
    "\n",
    "def sigmoid_function(z):\n",
    "    return 1 / (1 + np.exp(-z))\n",
    "\n",
    "def loss_function(y_hat, y):\n",
    "    return (-y*np.log(y_hat) - (1 - y)*np.log(1 - y_hat))\n",
    "\n",
    "def predict(x, w_init):    \n",
    "    z = np.dot(x, w_init)\n",
    "    y_hat = sigmoid_function(z)\n",
    "    \n",
    "    return y_hat\n"
   ]
  },
  {
   "cell_type": "code",
   "execution_count": 6,
   "id": "c2256a8b",
   "metadata": {},
   "outputs": [
    {
     "name": "stdout",
     "output_type": "stream",
     "text": [
      "[-11.37052423  -2.95884691  27.19468955]\n"
     ]
    }
   ],
   "source": [
    "lr = 0.01\n",
    "num_iter = 100\n",
    "\n",
    "theta = np.random.rand(3,)\n",
    "\n",
    "losses = []\n",
    "\n",
    "y_hats = []\n",
    "for epoch in range(num_iter):\n",
    "    for i in range(0, N):\n",
    "        xi = X_b[i:i+1]\n",
    "        yi = y_train[i:i+1]\n",
    "        \n",
    "        # compute output\n",
    "        y_hat = predict(xi, theta)\n",
    "        # compute loss\n",
    "        loss = loss_function(y_hat, yi)\n",
    "        # compute mean of gradient\n",
    "        gradient = np.dot(xi.T, (y_hat - yi))\n",
    "\n",
    "        # update\n",
    "        theta = theta - lr*gradient  \n",
    "\n",
    "    losses.append(loss) \n",
    "print(theta)    "
   ]
  },
  {
   "cell_type": "code",
   "execution_count": 7,
   "id": "05bcafdd",
   "metadata": {
    "scrolled": false
   },
   "outputs": [
    {
     "name": "stdout",
     "output_type": "stream",
     "text": [
      "Nhập chiều cao(cm) 180\n",
      "Nhập cân nặng(kg) 90\n",
      "0.6712189022963196 0.6513526620947819\n",
      "0.987342601922034\n",
      "Nam\n"
     ]
    }
   ],
   "source": [
    "#Bài 6. Viết hàm dự đoán giới tính dùng mô hình Logistic regression đã giải bằng Stochastic Gradient descent)\n",
    "def dudoan(height,weight):\n",
    "    height=0.393700787*height\n",
    "    weight=2.20462262*weight\n",
    "    height=(height - min(hei)) / (max(hei) - min(hei))\n",
    "    weight=(weight - min(wei)) / (max(wei) - min(wei))\n",
    "    print(height,weight)\n",
    "    giatri=(theta[0])+height*(theta[1])+weight*theta[2]\n",
    "    giatri= sigmoid_function(giatri)\n",
    "    print(giatri)\n",
    "    if giatri>=0.5: \n",
    "        print('Nam')\n",
    "    else: \n",
    "        print('Nữ')\n",
    "yourheight=float(input('Nhập chiều cao(cm) '))\n",
    "yourweight=float(input('Nhập cân nặng(kg) '))\n",
    "dudoan(yourheight,yourweight)"
   ]
  },
  {
   "cell_type": "code",
   "execution_count": 8,
   "id": "fc5aec97",
   "metadata": {},
   "outputs": [
    {
     "data": {
      "text/plain": [
       "array([[936,  96],\n",
       "       [ 85, 883]], dtype=int64)"
      ]
     },
     "execution_count": 8,
     "metadata": {},
     "output_type": "execute_result"
    }
   ],
   "source": [
    "#Bài 7. In ra Confusion matrix với mô hình Logistic regression đã giải bằng Sklearn, với tập testing (1 điểm).\n",
    "\n",
    "y_pred_test = model.predict(X_test)\n",
    "confusion_matrix(y_test,y_pred_test)"
   ]
  }
 ],
 "metadata": {
  "kernelspec": {
   "display_name": "Python 3 (ipykernel)",
   "language": "python",
   "name": "python3"
  },
  "language_info": {
   "codemirror_mode": {
    "name": "ipython",
    "version": 3
   },
   "file_extension": ".py",
   "mimetype": "text/x-python",
   "name": "python",
   "nbconvert_exporter": "python",
   "pygments_lexer": "ipython3",
   "version": "3.7.13"
  }
 },
 "nbformat": 4,
 "nbformat_minor": 5
}

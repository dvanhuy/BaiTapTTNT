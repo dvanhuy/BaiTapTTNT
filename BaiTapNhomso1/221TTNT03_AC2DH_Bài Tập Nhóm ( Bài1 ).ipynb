{
 "cells": [
  {
   "cell_type": "code",
   "execution_count": 1,
   "id": "85a068f0",
   "metadata": {},
   "outputs": [
    {
     "name": "stdout",
     "output_type": "stream",
     "text": [
      "w1 using Sklearn library is: 1.1696969696969697\n",
      "w0 using Sklearn library is: 1.2363636363636363\n",
      "R2 score: 0.952538038613988\n"
     ]
    },
    {
     "data": {
      "image/png": "[encoded data removed]",
      "text/plain": [
       "<Figure size 432x288 with 1 Axes>"
      ]
     },
     "metadata": {
      "needs_background": "light"
     },
     "output_type": "display_data"
    }
   ],
   "source": [
    "# Bài 2\n",
    "import numpy as np\n",
    "import matplotlib.pyplot as plt\n",
    "\n",
    "x = np.array([0, 1, 2, 3, 4, 5, 6, 7, 8, 9])\n",
    "y = np.array([1, 3, 2, 5, 7, 8, 8, 9, 10, 12])\n",
    "n = np.size(x)\n",
    "colors = np.random.rand(n)\n",
    "area = 50\n",
    "plt.scatter(x, y, area, colors, alpha=0.5)\n",
    "\n",
    "from sklearn.linear_model import LinearRegression\n",
    "reg = LinearRegression().fit(x.reshape(-1,1), y)\n",
    "print('w1 using Sklearn library is:', reg.coef_[0])\n",
    "print('w0 using Sklearn library is:', reg.intercept_)\n",
    "\n",
    "from sklearn.metrics import r2_score\n",
    "y_pred = reg.intercept_ + reg.coef_[0]*x\n",
    "r2Score = r2_score(y, y_pred)\n",
    "print('R2 score:', r2Score)\n"
   ]
  },
  {
   "cell_type": "code",
   "execution_count": 30,
   "id": "12865c81",
   "metadata": {},
   "outputs": [
    {
     "name": "stdout",
     "output_type": "stream",
     "text": [
      "w1 =:  1.1696969696969697\n",
      "w0 =:  1.2363636363636363\n"
     ]
    }
   ],
   "source": [
    "# Bài 3 cach 2\n",
    "X_mean = np.mean (x)\n",
    "Y_mean = np. mean (y)\n",
    "num = 0\n",
    "den = 0\n",
    "for i in range (len(x)):\n",
    "    num += (x[i] - X_mean)*(y[i] - Y_mean)\n",
    "    den += (x[i] - X_mean)**2\n",
    "w1= num / den\n",
    "w0= Y_mean -  w1*X_mean\n",
    "print('w1 =: ', w1)\n",
    "print('w0 =: ', w0)"
   ]
  },
  {
   "cell_type": "code",
   "execution_count": 25,
   "id": "6ba42bfb",
   "metadata": {
    "scrolled": true
   },
   "outputs": [
    {
     "name": "stdout",
     "output_type": "stream",
     "text": [
      "w1 =: 1.1696969696969697\n",
      "w0 =: 1.2363636363636363\n"
     ]
    }
   ],
   "source": [
    "# Bài 3\n",
    "X_mean = np.mean (x)\n",
    "Y_mean = np.mean (y)\n",
    "mau=tu=xiyi=xi_sqr=0\n",
    "\n",
    "for i in range(len(x)):\n",
    "    xiyi+=x[i]*y[i]\n",
    "tu= xiyi-X_mean*np.sum(y)\n",
    "\n",
    "for i in range(len(x)):\n",
    "    xi_sqr+=x[i]**2\n",
    "mau=xi_sqr-X_mean*np.sum(x) \n",
    "\n",
    "w1= tu / mau\n",
    "w0= Y_mean - w1*X_mean\n",
    "\n",
    "print('w1 =:', w1)\n",
    "print('w0 =:', w0)"
   ]
  },
  {
   "cell_type": "code",
   "execution_count": 9,
   "id": "4664bd6c",
   "metadata": {},
   "outputs": [
    {
     "data": {
      "text/plain": [
       "[<matplotlib.lines.Line2D at 0x1d46c52c1c8>]"
      ]
     },
     "execution_count": 9,
     "metadata": {},
     "output_type": "execute_result"
    },
    {
     "data": {
      "image/png": "[encoded data removed]",
      "text/plain": [
       "<Figure size 432x288 with 1 Axes>"
      ]
     },
     "metadata": {
      "needs_background": "light"
     },
     "output_type": "display_data"
    }
   ],
   "source": [
    "# Bài 4\n",
    "plt.plot(x, y_pred, color = \"b\")"
   ]
  },
  {
   "cell_type": "code",
   "execution_count": 10,
   "id": "8e4d581b",
   "metadata": {},
   "outputs": [
    {
     "name": "stdout",
     "output_type": "stream",
     "text": [
      "RSS=  5.624242424242421\n",
      "TSS=  118.5\n",
      "r_squared = 0.952538038613988\n"
     ]
    }
   ],
   "source": [
    "# Bài 5\n",
    "TSS=0\n",
    "RSS=0\n",
    "for i in range(len(y)): #len(y)=10\n",
    "    TSS+=(y[i] - Y_mean)**2\n",
    "\n",
    "for i in range(len(y)):\n",
    "    RSS+=(y[i] - (w0+(x[i]*w1)))**2       \n",
    "print('RSS= ',RSS)  \n",
    "print('TSS= ',TSS) \n",
    "\n",
    "r_squared=1-RSS/TSS\n",
    "print('r_squared =' ,r_squared)"
   ]
  },
  {
   "cell_type": "code",
   "execution_count": 5,
   "id": "309a573b",
   "metadata": {
    "scrolled": true
   },
   "outputs": [
    {
     "name": "stdout",
     "output_type": "stream",
     "text": [
      "w1 using Sklearn library is: 2.2781094527363184\n",
      "w0 using Sklearn library is: -2.880597014925373\n",
      "R2 score: 0.8327848622129652\n"
     ]
    },
    {
     "data": {
      "text/plain": [
       "[<matplotlib.lines.Line2D at 0x1d477435508>]"
      ]
     },
     "execution_count": 5,
     "metadata": {},
     "output_type": "execute_result"
    },
    {
     "data": {
      "image/png": "[encoded data removed]",
      "text/plain": [
       "<Figure size 432x288 with 1 Axes>"
      ]
     },
     "metadata": {
      "needs_background": "light"
     },
     "output_type": "display_data"
    }
   ],
   "source": [
    "# Bài 6 7 8\n",
    "import numpy as np\n",
    "import matplotlib.pyplot as plt\n",
    "\n",
    "x = np.array([0, 1, 2, 3, 4, 5, 6, 7, 8, 9,15])\n",
    "y = np.array([1, 3, 2, 5, 7, 8, 8, 9, 10, 12,40])\n",
    "n = np.size(x)\n",
    "colors = np.random.rand(n)\n",
    "area = 50\n",
    "plt.scatter(x, y, area, colors, alpha=0.5)\n",
    "\n",
    "from sklearn.linear_model import LinearRegression\n",
    "reg = LinearRegression().fit(x.reshape(-1,1), y)\n",
    "print('w1 using Sklearn library is:', reg.coef_[0])\n",
    "print('w0 using Sklearn library is:', reg.intercept_)\n",
    "\n",
    "from sklearn.metrics import r2_score\n",
    "y_pred = reg.intercept_ + reg.coef_[0]*x\n",
    "r2Score = r2_score(y, y_pred)\n",
    "print('R2 score:', r2Score)\n",
    "plt.plot(x, y_pred, color = \"b\")"
   ]
  }
 ],
 "metadata": {
  "kernelspec": {
   "display_name": "Python 3 (ipykernel)",
   "language": "python",
   "name": "python3"
  },
  "language_info": {
   "codemirror_mode": {
    "name": "ipython",
    "version": 3
   },
   "file_extension": ".py",
   "mimetype": "text/x-python",
   "name": "python",
   "nbconvert_exporter": "python",
   "pygments_lexer": "ipython3",
   "version": "3.7.13"
  }
 },
 "nbformat": 4,
 "nbformat_minor": 5
}
